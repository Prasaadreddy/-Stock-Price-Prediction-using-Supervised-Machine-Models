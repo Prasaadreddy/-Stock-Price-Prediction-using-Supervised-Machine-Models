{
  "cells": [
    {
      "cell_type": "markdown",
      "id": "280292a3",
      "metadata": {
        "id": "280292a3"
      },
      "source": [
        "# library import"
      ]
    },
    {
      "cell_type": "markdown",
      "source": [
        "###Pandas is used for analyzing of data\n",
        "###NumPy is used for large mathematical operation on dataset\n",
        "###Seaborn and matplot lib are used for data visualization\n",
        "###sklearn is used for importing and creation of model like logistic regression support vector machine random forest and decision tree"
      ],
      "metadata": {
        "id": "Kq_qc-IT5Zdd"
      },
      "id": "Kq_qc-IT5Zdd"
    },
    {
      "cell_type": "code",
      "execution_count": null,
      "id": "32ab5414",
      "metadata": {
        "id": "32ab5414"
      },
      "outputs": [],
      "source": [
        "import pandas as pd\n",
        "import numpy as np\n",
        "import seaborn as sns\n",
        "import matplotlib.pyplot as plt"
      ]
    },
    {
      "cell_type": "markdown",
      "id": "87d7e2c0",
      "metadata": {
        "id": "87d7e2c0"
      },
      "source": [
        "# data loading"
      ]
    },
    {
      "cell_type": "markdown",
      "source": [
        "###reading the dataset using the PD.read_csv function and displaying the dataset"
      ],
      "metadata": {
        "id": "NH08cdGx5xeL"
      },
      "id": "NH08cdGx5xeL"
    },
    {
      "cell_type": "code",
      "execution_count": null,
      "id": "4a99b43f",
      "metadata": {
        "id": "4a99b43f"
      },
      "outputs": [],
      "source": [
        "data = pd.read_csv(\"features.csv\")"
      ]
    },
    {
      "cell_type": "code",
      "execution_count": null,
      "id": "4f617af4",
      "metadata": {
        "id": "4f617af4",
        "outputId": "bd9ba2a1-a5f7-4536-e5bc-17609d8c4424"
      },
      "outputs": [
        {
          "data": {
            "text/html": [
              "<div>\n",
              "<style scoped>\n",
              "    .dataframe tbody tr th:only-of-type {\n",
              "        vertical-align: middle;\n",
              "    }\n",
              "\n",
              "    .dataframe tbody tr th {\n",
              "        vertical-align: top;\n",
              "    }\n",
              "\n",
              "    .dataframe thead th {\n",
              "        text-align: right;\n",
              "    }\n",
              "</style>\n",
              "<table border=\"1\" class=\"dataframe\">\n",
              "  <thead>\n",
              "    <tr style=\"text-align: right;\">\n",
              "      <th></th>\n",
              "      <th>Store</th>\n",
              "      <th>Date</th>\n",
              "      <th>Temperature</th>\n",
              "      <th>Fuel_Price</th>\n",
              "      <th>MarkDown1</th>\n",
              "      <th>MarkDown2</th>\n",
              "      <th>MarkDown3</th>\n",
              "      <th>MarkDown4</th>\n",
              "      <th>MarkDown5</th>\n",
              "      <th>CPI</th>\n",
              "      <th>Unemployment</th>\n",
              "      <th>IsHoliday</th>\n",
              "    </tr>\n",
              "  </thead>\n",
              "  <tbody>\n",
              "    <tr>\n",
              "      <th>0</th>\n",
              "      <td>1</td>\n",
              "      <td>2010-02-05</td>\n",
              "      <td>42.31</td>\n",
              "      <td>2.572</td>\n",
              "      <td>NaN</td>\n",
              "      <td>NaN</td>\n",
              "      <td>NaN</td>\n",
              "      <td>NaN</td>\n",
              "      <td>NaN</td>\n",
              "      <td>211.096358</td>\n",
              "      <td>8.106</td>\n",
              "      <td>False</td>\n",
              "    </tr>\n",
              "    <tr>\n",
              "      <th>1</th>\n",
              "      <td>1</td>\n",
              "      <td>2010-02-12</td>\n",
              "      <td>38.51</td>\n",
              "      <td>2.548</td>\n",
              "      <td>NaN</td>\n",
              "      <td>NaN</td>\n",
              "      <td>NaN</td>\n",
              "      <td>NaN</td>\n",
              "      <td>NaN</td>\n",
              "      <td>211.242170</td>\n",
              "      <td>8.106</td>\n",
              "      <td>True</td>\n",
              "    </tr>\n",
              "    <tr>\n",
              "      <th>2</th>\n",
              "      <td>1</td>\n",
              "      <td>2010-02-19</td>\n",
              "      <td>39.93</td>\n",
              "      <td>2.514</td>\n",
              "      <td>NaN</td>\n",
              "      <td>NaN</td>\n",
              "      <td>NaN</td>\n",
              "      <td>NaN</td>\n",
              "      <td>NaN</td>\n",
              "      <td>211.289143</td>\n",
              "      <td>8.106</td>\n",
              "      <td>False</td>\n",
              "    </tr>\n",
              "    <tr>\n",
              "      <th>3</th>\n",
              "      <td>1</td>\n",
              "      <td>2010-02-26</td>\n",
              "      <td>46.63</td>\n",
              "      <td>2.561</td>\n",
              "      <td>NaN</td>\n",
              "      <td>NaN</td>\n",
              "      <td>NaN</td>\n",
              "      <td>NaN</td>\n",
              "      <td>NaN</td>\n",
              "      <td>211.319643</td>\n",
              "      <td>8.106</td>\n",
              "      <td>False</td>\n",
              "    </tr>\n",
              "    <tr>\n",
              "      <th>4</th>\n",
              "      <td>1</td>\n",
              "      <td>2010-03-05</td>\n",
              "      <td>46.50</td>\n",
              "      <td>2.625</td>\n",
              "      <td>NaN</td>\n",
              "      <td>NaN</td>\n",
              "      <td>NaN</td>\n",
              "      <td>NaN</td>\n",
              "      <td>NaN</td>\n",
              "      <td>211.350143</td>\n",
              "      <td>8.106</td>\n",
              "      <td>False</td>\n",
              "    </tr>\n",
              "    <tr>\n",
              "      <th>...</th>\n",
              "      <td>...</td>\n",
              "      <td>...</td>\n",
              "      <td>...</td>\n",
              "      <td>...</td>\n",
              "      <td>...</td>\n",
              "      <td>...</td>\n",
              "      <td>...</td>\n",
              "      <td>...</td>\n",
              "      <td>...</td>\n",
              "      <td>...</td>\n",
              "      <td>...</td>\n",
              "      <td>...</td>\n",
              "    </tr>\n",
              "    <tr>\n",
              "      <th>8185</th>\n",
              "      <td>45</td>\n",
              "      <td>2013-06-28</td>\n",
              "      <td>76.05</td>\n",
              "      <td>3.639</td>\n",
              "      <td>4842.29</td>\n",
              "      <td>975.03</td>\n",
              "      <td>3.00</td>\n",
              "      <td>2449.97</td>\n",
              "      <td>3169.69</td>\n",
              "      <td>NaN</td>\n",
              "      <td>NaN</td>\n",
              "      <td>False</td>\n",
              "    </tr>\n",
              "    <tr>\n",
              "      <th>8186</th>\n",
              "      <td>45</td>\n",
              "      <td>2013-07-05</td>\n",
              "      <td>77.50</td>\n",
              "      <td>3.614</td>\n",
              "      <td>9090.48</td>\n",
              "      <td>2268.58</td>\n",
              "      <td>582.74</td>\n",
              "      <td>5797.47</td>\n",
              "      <td>1514.93</td>\n",
              "      <td>NaN</td>\n",
              "      <td>NaN</td>\n",
              "      <td>False</td>\n",
              "    </tr>\n",
              "    <tr>\n",
              "      <th>8187</th>\n",
              "      <td>45</td>\n",
              "      <td>2013-07-12</td>\n",
              "      <td>79.37</td>\n",
              "      <td>3.614</td>\n",
              "      <td>3789.94</td>\n",
              "      <td>1827.31</td>\n",
              "      <td>85.72</td>\n",
              "      <td>744.84</td>\n",
              "      <td>2150.36</td>\n",
              "      <td>NaN</td>\n",
              "      <td>NaN</td>\n",
              "      <td>False</td>\n",
              "    </tr>\n",
              "    <tr>\n",
              "      <th>8188</th>\n",
              "      <td>45</td>\n",
              "      <td>2013-07-19</td>\n",
              "      <td>82.84</td>\n",
              "      <td>3.737</td>\n",
              "      <td>2961.49</td>\n",
              "      <td>1047.07</td>\n",
              "      <td>204.19</td>\n",
              "      <td>363.00</td>\n",
              "      <td>1059.46</td>\n",
              "      <td>NaN</td>\n",
              "      <td>NaN</td>\n",
              "      <td>False</td>\n",
              "    </tr>\n",
              "    <tr>\n",
              "      <th>8189</th>\n",
              "      <td>45</td>\n",
              "      <td>2013-07-26</td>\n",
              "      <td>76.06</td>\n",
              "      <td>3.804</td>\n",
              "      <td>212.02</td>\n",
              "      <td>851.73</td>\n",
              "      <td>2.06</td>\n",
              "      <td>10.88</td>\n",
              "      <td>1864.57</td>\n",
              "      <td>NaN</td>\n",
              "      <td>NaN</td>\n",
              "      <td>False</td>\n",
              "    </tr>\n",
              "  </tbody>\n",
              "</table>\n",
              "<p>8190 rows × 12 columns</p>\n",
              "</div>"
            ],
            "text/plain": [
              "      Store        Date  Temperature  Fuel_Price  MarkDown1  MarkDown2  \\\n",
              "0         1  2010-02-05        42.31       2.572        NaN        NaN   \n",
              "1         1  2010-02-12        38.51       2.548        NaN        NaN   \n",
              "2         1  2010-02-19        39.93       2.514        NaN        NaN   \n",
              "3         1  2010-02-26        46.63       2.561        NaN        NaN   \n",
              "4         1  2010-03-05        46.50       2.625        NaN        NaN   \n",
              "...     ...         ...          ...         ...        ...        ...   \n",
              "8185     45  2013-06-28        76.05       3.639    4842.29     975.03   \n",
              "8186     45  2013-07-05        77.50       3.614    9090.48    2268.58   \n",
              "8187     45  2013-07-12        79.37       3.614    3789.94    1827.31   \n",
              "8188     45  2013-07-19        82.84       3.737    2961.49    1047.07   \n",
              "8189     45  2013-07-26        76.06       3.804     212.02     851.73   \n",
              "\n",
              "      MarkDown3  MarkDown4  MarkDown5         CPI  Unemployment  IsHoliday  \n",
              "0           NaN        NaN        NaN  211.096358         8.106      False  \n",
              "1           NaN        NaN        NaN  211.242170         8.106       True  \n",
              "2           NaN        NaN        NaN  211.289143         8.106      False  \n",
              "3           NaN        NaN        NaN  211.319643         8.106      False  \n",
              "4           NaN        NaN        NaN  211.350143         8.106      False  \n",
              "...         ...        ...        ...         ...           ...        ...  \n",
              "8185       3.00    2449.97    3169.69         NaN           NaN      False  \n",
              "8186     582.74    5797.47    1514.93         NaN           NaN      False  \n",
              "8187      85.72     744.84    2150.36         NaN           NaN      False  \n",
              "8188     204.19     363.00    1059.46         NaN           NaN      False  \n",
              "8189       2.06      10.88    1864.57         NaN           NaN      False  \n",
              "\n",
              "[8190 rows x 12 columns]"
            ]
          },
          "execution_count": 32,
          "metadata": {},
          "output_type": "execute_result"
        }
      ],
      "source": [
        "data"
      ]
    },
    {
      "cell_type": "markdown",
      "id": "a5d0a137",
      "metadata": {
        "id": "a5d0a137"
      },
      "source": [
        "# data preparation"
      ]
    },
    {
      "cell_type": "markdown",
      "source": [
        "###In data preparation section i see the top 10 and bottom 10 records of the dataset\n"
      ],
      "metadata": {
        "id": "z3qfWZcZ6EYG"
      },
      "id": "z3qfWZcZ6EYG"
    },
    {
      "cell_type": "code",
      "execution_count": null,
      "id": "9a076b90",
      "metadata": {
        "id": "9a076b90",
        "outputId": "9b762faa-3086-42b5-ad9e-ea921c33103f"
      },
      "outputs": [
        {
          "data": {
            "text/html": [
              "<div>\n",
              "<style scoped>\n",
              "    .dataframe tbody tr th:only-of-type {\n",
              "        vertical-align: middle;\n",
              "    }\n",
              "\n",
              "    .dataframe tbody tr th {\n",
              "        vertical-align: top;\n",
              "    }\n",
              "\n",
              "    .dataframe thead th {\n",
              "        text-align: right;\n",
              "    }\n",
              "</style>\n",
              "<table border=\"1\" class=\"dataframe\">\n",
              "  <thead>\n",
              "    <tr style=\"text-align: right;\">\n",
              "      <th></th>\n",
              "      <th>Store</th>\n",
              "      <th>Date</th>\n",
              "      <th>Temperature</th>\n",
              "      <th>Fuel_Price</th>\n",
              "      <th>MarkDown1</th>\n",
              "      <th>MarkDown2</th>\n",
              "      <th>MarkDown3</th>\n",
              "      <th>MarkDown4</th>\n",
              "      <th>MarkDown5</th>\n",
              "      <th>CPI</th>\n",
              "      <th>Unemployment</th>\n",
              "      <th>IsHoliday</th>\n",
              "    </tr>\n",
              "  </thead>\n",
              "  <tbody>\n",
              "    <tr>\n",
              "      <th>0</th>\n",
              "      <td>1</td>\n",
              "      <td>2010-02-05</td>\n",
              "      <td>42.31</td>\n",
              "      <td>2.572</td>\n",
              "      <td>NaN</td>\n",
              "      <td>NaN</td>\n",
              "      <td>NaN</td>\n",
              "      <td>NaN</td>\n",
              "      <td>NaN</td>\n",
              "      <td>211.096358</td>\n",
              "      <td>8.106</td>\n",
              "      <td>False</td>\n",
              "    </tr>\n",
              "    <tr>\n",
              "      <th>1</th>\n",
              "      <td>1</td>\n",
              "      <td>2010-02-12</td>\n",
              "      <td>38.51</td>\n",
              "      <td>2.548</td>\n",
              "      <td>NaN</td>\n",
              "      <td>NaN</td>\n",
              "      <td>NaN</td>\n",
              "      <td>NaN</td>\n",
              "      <td>NaN</td>\n",
              "      <td>211.242170</td>\n",
              "      <td>8.106</td>\n",
              "      <td>True</td>\n",
              "    </tr>\n",
              "    <tr>\n",
              "      <th>2</th>\n",
              "      <td>1</td>\n",
              "      <td>2010-02-19</td>\n",
              "      <td>39.93</td>\n",
              "      <td>2.514</td>\n",
              "      <td>NaN</td>\n",
              "      <td>NaN</td>\n",
              "      <td>NaN</td>\n",
              "      <td>NaN</td>\n",
              "      <td>NaN</td>\n",
              "      <td>211.289143</td>\n",
              "      <td>8.106</td>\n",
              "      <td>False</td>\n",
              "    </tr>\n",
              "    <tr>\n",
              "      <th>3</th>\n",
              "      <td>1</td>\n",
              "      <td>2010-02-26</td>\n",
              "      <td>46.63</td>\n",
              "      <td>2.561</td>\n",
              "      <td>NaN</td>\n",
              "      <td>NaN</td>\n",
              "      <td>NaN</td>\n",
              "      <td>NaN</td>\n",
              "      <td>NaN</td>\n",
              "      <td>211.319643</td>\n",
              "      <td>8.106</td>\n",
              "      <td>False</td>\n",
              "    </tr>\n",
              "    <tr>\n",
              "      <th>4</th>\n",
              "      <td>1</td>\n",
              "      <td>2010-03-05</td>\n",
              "      <td>46.50</td>\n",
              "      <td>2.625</td>\n",
              "      <td>NaN</td>\n",
              "      <td>NaN</td>\n",
              "      <td>NaN</td>\n",
              "      <td>NaN</td>\n",
              "      <td>NaN</td>\n",
              "      <td>211.350143</td>\n",
              "      <td>8.106</td>\n",
              "      <td>False</td>\n",
              "    </tr>\n",
              "    <tr>\n",
              "      <th>5</th>\n",
              "      <td>1</td>\n",
              "      <td>2010-03-12</td>\n",
              "      <td>57.79</td>\n",
              "      <td>2.667</td>\n",
              "      <td>NaN</td>\n",
              "      <td>NaN</td>\n",
              "      <td>NaN</td>\n",
              "      <td>NaN</td>\n",
              "      <td>NaN</td>\n",
              "      <td>211.380643</td>\n",
              "      <td>8.106</td>\n",
              "      <td>False</td>\n",
              "    </tr>\n",
              "    <tr>\n",
              "      <th>6</th>\n",
              "      <td>1</td>\n",
              "      <td>2010-03-19</td>\n",
              "      <td>54.58</td>\n",
              "      <td>2.720</td>\n",
              "      <td>NaN</td>\n",
              "      <td>NaN</td>\n",
              "      <td>NaN</td>\n",
              "      <td>NaN</td>\n",
              "      <td>NaN</td>\n",
              "      <td>211.215635</td>\n",
              "      <td>8.106</td>\n",
              "      <td>False</td>\n",
              "    </tr>\n",
              "    <tr>\n",
              "      <th>7</th>\n",
              "      <td>1</td>\n",
              "      <td>2010-03-26</td>\n",
              "      <td>51.45</td>\n",
              "      <td>2.732</td>\n",
              "      <td>NaN</td>\n",
              "      <td>NaN</td>\n",
              "      <td>NaN</td>\n",
              "      <td>NaN</td>\n",
              "      <td>NaN</td>\n",
              "      <td>211.018042</td>\n",
              "      <td>8.106</td>\n",
              "      <td>False</td>\n",
              "    </tr>\n",
              "    <tr>\n",
              "      <th>8</th>\n",
              "      <td>1</td>\n",
              "      <td>2010-04-02</td>\n",
              "      <td>62.27</td>\n",
              "      <td>2.719</td>\n",
              "      <td>NaN</td>\n",
              "      <td>NaN</td>\n",
              "      <td>NaN</td>\n",
              "      <td>NaN</td>\n",
              "      <td>NaN</td>\n",
              "      <td>210.820450</td>\n",
              "      <td>7.808</td>\n",
              "      <td>False</td>\n",
              "    </tr>\n",
              "    <tr>\n",
              "      <th>9</th>\n",
              "      <td>1</td>\n",
              "      <td>2010-04-09</td>\n",
              "      <td>65.86</td>\n",
              "      <td>2.770</td>\n",
              "      <td>NaN</td>\n",
              "      <td>NaN</td>\n",
              "      <td>NaN</td>\n",
              "      <td>NaN</td>\n",
              "      <td>NaN</td>\n",
              "      <td>210.622857</td>\n",
              "      <td>7.808</td>\n",
              "      <td>False</td>\n",
              "    </tr>\n",
              "  </tbody>\n",
              "</table>\n",
              "</div>"
            ],
            "text/plain": [
              "   Store        Date  Temperature  Fuel_Price  MarkDown1  MarkDown2  \\\n",
              "0      1  2010-02-05        42.31       2.572        NaN        NaN   \n",
              "1      1  2010-02-12        38.51       2.548        NaN        NaN   \n",
              "2      1  2010-02-19        39.93       2.514        NaN        NaN   \n",
              "3      1  2010-02-26        46.63       2.561        NaN        NaN   \n",
              "4      1  2010-03-05        46.50       2.625        NaN        NaN   \n",
              "5      1  2010-03-12        57.79       2.667        NaN        NaN   \n",
              "6      1  2010-03-19        54.58       2.720        NaN        NaN   \n",
              "7      1  2010-03-26        51.45       2.732        NaN        NaN   \n",
              "8      1  2010-04-02        62.27       2.719        NaN        NaN   \n",
              "9      1  2010-04-09        65.86       2.770        NaN        NaN   \n",
              "\n",
              "   MarkDown3  MarkDown4  MarkDown5         CPI  Unemployment  IsHoliday  \n",
              "0        NaN        NaN        NaN  211.096358         8.106      False  \n",
              "1        NaN        NaN        NaN  211.242170         8.106       True  \n",
              "2        NaN        NaN        NaN  211.289143         8.106      False  \n",
              "3        NaN        NaN        NaN  211.319643         8.106      False  \n",
              "4        NaN        NaN        NaN  211.350143         8.106      False  \n",
              "5        NaN        NaN        NaN  211.380643         8.106      False  \n",
              "6        NaN        NaN        NaN  211.215635         8.106      False  \n",
              "7        NaN        NaN        NaN  211.018042         8.106      False  \n",
              "8        NaN        NaN        NaN  210.820450         7.808      False  \n",
              "9        NaN        NaN        NaN  210.622857         7.808      False  "
            ]
          },
          "execution_count": 33,
          "metadata": {},
          "output_type": "execute_result"
        }
      ],
      "source": [
        "data.head(10)"
      ]
    },
    {
      "cell_type": "code",
      "execution_count": null,
      "id": "7fc33083",
      "metadata": {
        "id": "7fc33083",
        "outputId": "e3d100a1-8fb9-472c-cdc2-de80a1c18158"
      },
      "outputs": [
        {
          "data": {
            "text/html": [
              "<div>\n",
              "<style scoped>\n",
              "    .dataframe tbody tr th:only-of-type {\n",
              "        vertical-align: middle;\n",
              "    }\n",
              "\n",
              "    .dataframe tbody tr th {\n",
              "        vertical-align: top;\n",
              "    }\n",
              "\n",
              "    .dataframe thead th {\n",
              "        text-align: right;\n",
              "    }\n",
              "</style>\n",
              "<table border=\"1\" class=\"dataframe\">\n",
              "  <thead>\n",
              "    <tr style=\"text-align: right;\">\n",
              "      <th></th>\n",
              "      <th>Store</th>\n",
              "      <th>Date</th>\n",
              "      <th>Temperature</th>\n",
              "      <th>Fuel_Price</th>\n",
              "      <th>MarkDown1</th>\n",
              "      <th>MarkDown2</th>\n",
              "      <th>MarkDown3</th>\n",
              "      <th>MarkDown4</th>\n",
              "      <th>MarkDown5</th>\n",
              "      <th>CPI</th>\n",
              "      <th>Unemployment</th>\n",
              "      <th>IsHoliday</th>\n",
              "    </tr>\n",
              "  </thead>\n",
              "  <tbody>\n",
              "    <tr>\n",
              "      <th>8180</th>\n",
              "      <td>45</td>\n",
              "      <td>2013-05-24</td>\n",
              "      <td>67.11</td>\n",
              "      <td>3.627</td>\n",
              "      <td>3249.34</td>\n",
              "      <td>481.82</td>\n",
              "      <td>58.48</td>\n",
              "      <td>1183.23</td>\n",
              "      <td>1309.30</td>\n",
              "      <td>NaN</td>\n",
              "      <td>NaN</td>\n",
              "      <td>False</td>\n",
              "    </tr>\n",
              "    <tr>\n",
              "      <th>8181</th>\n",
              "      <td>45</td>\n",
              "      <td>2013-05-31</td>\n",
              "      <td>65.88</td>\n",
              "      <td>3.646</td>\n",
              "      <td>6474.49</td>\n",
              "      <td>411.38</td>\n",
              "      <td>77.06</td>\n",
              "      <td>9.38</td>\n",
              "      <td>4227.27</td>\n",
              "      <td>NaN</td>\n",
              "      <td>NaN</td>\n",
              "      <td>False</td>\n",
              "    </tr>\n",
              "    <tr>\n",
              "      <th>8182</th>\n",
              "      <td>45</td>\n",
              "      <td>2013-06-07</td>\n",
              "      <td>70.71</td>\n",
              "      <td>3.633</td>\n",
              "      <td>9977.82</td>\n",
              "      <td>744.29</td>\n",
              "      <td>80.00</td>\n",
              "      <td>4825.71</td>\n",
              "      <td>3597.34</td>\n",
              "      <td>NaN</td>\n",
              "      <td>NaN</td>\n",
              "      <td>False</td>\n",
              "    </tr>\n",
              "    <tr>\n",
              "      <th>8183</th>\n",
              "      <td>45</td>\n",
              "      <td>2013-06-14</td>\n",
              "      <td>70.01</td>\n",
              "      <td>3.632</td>\n",
              "      <td>2471.44</td>\n",
              "      <td>517.87</td>\n",
              "      <td>348.54</td>\n",
              "      <td>2612.33</td>\n",
              "      <td>3459.39</td>\n",
              "      <td>NaN</td>\n",
              "      <td>NaN</td>\n",
              "      <td>False</td>\n",
              "    </tr>\n",
              "    <tr>\n",
              "      <th>8184</th>\n",
              "      <td>45</td>\n",
              "      <td>2013-06-21</td>\n",
              "      <td>70.13</td>\n",
              "      <td>3.626</td>\n",
              "      <td>4989.34</td>\n",
              "      <td>385.31</td>\n",
              "      <td>178.56</td>\n",
              "      <td>2463.42</td>\n",
              "      <td>3117.94</td>\n",
              "      <td>NaN</td>\n",
              "      <td>NaN</td>\n",
              "      <td>False</td>\n",
              "    </tr>\n",
              "    <tr>\n",
              "      <th>8185</th>\n",
              "      <td>45</td>\n",
              "      <td>2013-06-28</td>\n",
              "      <td>76.05</td>\n",
              "      <td>3.639</td>\n",
              "      <td>4842.29</td>\n",
              "      <td>975.03</td>\n",
              "      <td>3.00</td>\n",
              "      <td>2449.97</td>\n",
              "      <td>3169.69</td>\n",
              "      <td>NaN</td>\n",
              "      <td>NaN</td>\n",
              "      <td>False</td>\n",
              "    </tr>\n",
              "    <tr>\n",
              "      <th>8186</th>\n",
              "      <td>45</td>\n",
              "      <td>2013-07-05</td>\n",
              "      <td>77.50</td>\n",
              "      <td>3.614</td>\n",
              "      <td>9090.48</td>\n",
              "      <td>2268.58</td>\n",
              "      <td>582.74</td>\n",
              "      <td>5797.47</td>\n",
              "      <td>1514.93</td>\n",
              "      <td>NaN</td>\n",
              "      <td>NaN</td>\n",
              "      <td>False</td>\n",
              "    </tr>\n",
              "    <tr>\n",
              "      <th>8187</th>\n",
              "      <td>45</td>\n",
              "      <td>2013-07-12</td>\n",
              "      <td>79.37</td>\n",
              "      <td>3.614</td>\n",
              "      <td>3789.94</td>\n",
              "      <td>1827.31</td>\n",
              "      <td>85.72</td>\n",
              "      <td>744.84</td>\n",
              "      <td>2150.36</td>\n",
              "      <td>NaN</td>\n",
              "      <td>NaN</td>\n",
              "      <td>False</td>\n",
              "    </tr>\n",
              "    <tr>\n",
              "      <th>8188</th>\n",
              "      <td>45</td>\n",
              "      <td>2013-07-19</td>\n",
              "      <td>82.84</td>\n",
              "      <td>3.737</td>\n",
              "      <td>2961.49</td>\n",
              "      <td>1047.07</td>\n",
              "      <td>204.19</td>\n",
              "      <td>363.00</td>\n",
              "      <td>1059.46</td>\n",
              "      <td>NaN</td>\n",
              "      <td>NaN</td>\n",
              "      <td>False</td>\n",
              "    </tr>\n",
              "    <tr>\n",
              "      <th>8189</th>\n",
              "      <td>45</td>\n",
              "      <td>2013-07-26</td>\n",
              "      <td>76.06</td>\n",
              "      <td>3.804</td>\n",
              "      <td>212.02</td>\n",
              "      <td>851.73</td>\n",
              "      <td>2.06</td>\n",
              "      <td>10.88</td>\n",
              "      <td>1864.57</td>\n",
              "      <td>NaN</td>\n",
              "      <td>NaN</td>\n",
              "      <td>False</td>\n",
              "    </tr>\n",
              "  </tbody>\n",
              "</table>\n",
              "</div>"
            ],
            "text/plain": [
              "      Store        Date  Temperature  Fuel_Price  MarkDown1  MarkDown2  \\\n",
              "8180     45  2013-05-24        67.11       3.627    3249.34     481.82   \n",
              "8181     45  2013-05-31        65.88       3.646    6474.49     411.38   \n",
              "8182     45  2013-06-07        70.71       3.633    9977.82     744.29   \n",
              "8183     45  2013-06-14        70.01       3.632    2471.44     517.87   \n",
              "8184     45  2013-06-21        70.13       3.626    4989.34     385.31   \n",
              "8185     45  2013-06-28        76.05       3.639    4842.29     975.03   \n",
              "8186     45  2013-07-05        77.50       3.614    9090.48    2268.58   \n",
              "8187     45  2013-07-12        79.37       3.614    3789.94    1827.31   \n",
              "8188     45  2013-07-19        82.84       3.737    2961.49    1047.07   \n",
              "8189     45  2013-07-26        76.06       3.804     212.02     851.73   \n",
              "\n",
              "      MarkDown3  MarkDown4  MarkDown5  CPI  Unemployment  IsHoliday  \n",
              "8180      58.48    1183.23    1309.30  NaN           NaN      False  \n",
              "8181      77.06       9.38    4227.27  NaN           NaN      False  \n",
              "8182      80.00    4825.71    3597.34  NaN           NaN      False  \n",
              "8183     348.54    2612.33    3459.39  NaN           NaN      False  \n",
              "8184     178.56    2463.42    3117.94  NaN           NaN      False  \n",
              "8185       3.00    2449.97    3169.69  NaN           NaN      False  \n",
              "8186     582.74    5797.47    1514.93  NaN           NaN      False  \n",
              "8187      85.72     744.84    2150.36  NaN           NaN      False  \n",
              "8188     204.19     363.00    1059.46  NaN           NaN      False  \n",
              "8189       2.06      10.88    1864.57  NaN           NaN      False  "
            ]
          },
          "execution_count": 34,
          "metadata": {},
          "output_type": "execute_result"
        }
      ],
      "source": [
        "data.tail(10)"
      ]
    },
    {
      "cell_type": "markdown",
      "source": [
        "###The data.info command shows how many columns i have and their respective data types"
      ],
      "metadata": {
        "id": "gN3Fiy036Tql"
      },
      "id": "gN3Fiy036Tql"
    },
    {
      "cell_type": "code",
      "execution_count": null,
      "id": "1d3e58f1",
      "metadata": {
        "id": "1d3e58f1",
        "outputId": "c17a0474-cbfe-4128-d235-32c6a99afe23"
      },
      "outputs": [
        {
          "name": "stdout",
          "output_type": "stream",
          "text": [
            "<class 'pandas.core.frame.DataFrame'>\n",
            "RangeIndex: 8190 entries, 0 to 8189\n",
            "Data columns (total 12 columns):\n",
            " #   Column        Non-Null Count  Dtype  \n",
            "---  ------        --------------  -----  \n",
            " 0   Store         8190 non-null   int64  \n",
            " 1   Date          8190 non-null   object \n",
            " 2   Temperature   8190 non-null   float64\n",
            " 3   Fuel_Price    8190 non-null   float64\n",
            " 4   MarkDown1     4032 non-null   float64\n",
            " 5   MarkDown2     2921 non-null   float64\n",
            " 6   MarkDown3     3613 non-null   float64\n",
            " 7   MarkDown4     3464 non-null   float64\n",
            " 8   MarkDown5     4050 non-null   float64\n",
            " 9   CPI           7605 non-null   float64\n",
            " 10  Unemployment  7605 non-null   float64\n",
            " 11  IsHoliday     8190 non-null   bool   \n",
            "dtypes: bool(1), float64(9), int64(1), object(1)\n",
            "memory usage: 712.0+ KB\n"
          ]
        }
      ],
      "source": [
        "data.info()"
      ]
    },
    {
      "cell_type": "code",
      "execution_count": null,
      "id": "387f20df",
      "metadata": {
        "id": "387f20df",
        "outputId": "70a7dea4-a865-49f2-abcd-ded673762509"
      },
      "outputs": [
        {
          "data": {
            "text/plain": [
              "<bound method NDFrame.describe of       Store        Date  Temperature  Fuel_Price  MarkDown1  MarkDown2  \\\n",
              "0         1  2010-02-05        42.31       2.572        NaN        NaN   \n",
              "1         1  2010-02-12        38.51       2.548        NaN        NaN   \n",
              "2         1  2010-02-19        39.93       2.514        NaN        NaN   \n",
              "3         1  2010-02-26        46.63       2.561        NaN        NaN   \n",
              "4         1  2010-03-05        46.50       2.625        NaN        NaN   \n",
              "...     ...         ...          ...         ...        ...        ...   \n",
              "8185     45  2013-06-28        76.05       3.639    4842.29     975.03   \n",
              "8186     45  2013-07-05        77.50       3.614    9090.48    2268.58   \n",
              "8187     45  2013-07-12        79.37       3.614    3789.94    1827.31   \n",
              "8188     45  2013-07-19        82.84       3.737    2961.49    1047.07   \n",
              "8189     45  2013-07-26        76.06       3.804     212.02     851.73   \n",
              "\n",
              "      MarkDown3  MarkDown4  MarkDown5         CPI  Unemployment  IsHoliday  \n",
              "0           NaN        NaN        NaN  211.096358         8.106      False  \n",
              "1           NaN        NaN        NaN  211.242170         8.106       True  \n",
              "2           NaN        NaN        NaN  211.289143         8.106      False  \n",
              "3           NaN        NaN        NaN  211.319643         8.106      False  \n",
              "4           NaN        NaN        NaN  211.350143         8.106      False  \n",
              "...         ...        ...        ...         ...           ...        ...  \n",
              "8185       3.00    2449.97    3169.69         NaN           NaN      False  \n",
              "8186     582.74    5797.47    1514.93         NaN           NaN      False  \n",
              "8187      85.72     744.84    2150.36         NaN           NaN      False  \n",
              "8188     204.19     363.00    1059.46         NaN           NaN      False  \n",
              "8189       2.06      10.88    1864.57         NaN           NaN      False  \n",
              "\n",
              "[8190 rows x 12 columns]>"
            ]
          },
          "execution_count": 36,
          "metadata": {},
          "output_type": "execute_result"
        }
      ],
      "source": [
        "data.describe"
      ]
    },
    {
      "cell_type": "markdown",
      "source": [
        "I use data.columns and data.d types to individually see the column name and their respective data types"
      ],
      "metadata": {
        "id": "KJZa8UkN6liW"
      },
      "id": "KJZa8UkN6liW"
    },
    {
      "cell_type": "code",
      "execution_count": null,
      "id": "00c3e222",
      "metadata": {
        "id": "00c3e222",
        "outputId": "f293fcc1-eafc-4543-f624-3f5a75554ff3"
      },
      "outputs": [
        {
          "data": {
            "text/plain": [
              "Index(['Store', 'Date', 'Temperature', 'Fuel_Price', 'MarkDown1', 'MarkDown2',\n",
              "       'MarkDown3', 'MarkDown4', 'MarkDown5', 'CPI', 'Unemployment',\n",
              "       'IsHoliday'],\n",
              "      dtype='object')"
            ]
          },
          "execution_count": 37,
          "metadata": {},
          "output_type": "execute_result"
        }
      ],
      "source": [
        "data.columns"
      ]
    },
    {
      "cell_type": "code",
      "execution_count": null,
      "id": "01ce453b",
      "metadata": {
        "id": "01ce453b",
        "outputId": "b1174099-29ba-4a71-ed8a-d6ba31b0ba1b"
      },
      "outputs": [
        {
          "data": {
            "text/plain": [
              "Store             int64\n",
              "Date             object\n",
              "Temperature     float64\n",
              "Fuel_Price      float64\n",
              "MarkDown1       float64\n",
              "MarkDown2       float64\n",
              "MarkDown3       float64\n",
              "MarkDown4       float64\n",
              "MarkDown5       float64\n",
              "CPI             float64\n",
              "Unemployment    float64\n",
              "IsHoliday          bool\n",
              "dtype: object"
            ]
          },
          "execution_count": 38,
          "metadata": {},
          "output_type": "execute_result"
        }
      ],
      "source": [
        "data.dtypes"
      ]
    },
    {
      "cell_type": "markdown",
      "id": "1a792a23",
      "metadata": {
        "id": "1a792a23"
      },
      "source": [
        "# data cleaning"
      ]
    },
    {
      "cell_type": "markdown",
      "source": [
        "We start the cleaning of the data"
      ],
      "metadata": {
        "id": "ZfJtOY1M6s3X"
      },
      "id": "ZfJtOY1M6s3X"
    },
    {
      "cell_type": "code",
      "execution_count": null,
      "id": "8878e025",
      "metadata": {
        "id": "8878e025",
        "outputId": "01dab298-2dee-4594-ec40-24d64e5c1697"
      },
      "outputs": [
        {
          "data": {
            "text/plain": [
              "Store              0\n",
              "Date               0\n",
              "Temperature        0\n",
              "Fuel_Price         0\n",
              "MarkDown1       4158\n",
              "MarkDown2       5269\n",
              "MarkDown3       4577\n",
              "MarkDown4       4726\n",
              "MarkDown5       4140\n",
              "CPI              585\n",
              "Unemployment     585\n",
              "IsHoliday          0\n",
              "dtype: int64"
            ]
          },
          "execution_count": 39,
          "metadata": {},
          "output_type": "execute_result"
        }
      ],
      "source": [
        "data.isna().sum()"
      ]
    },
    {
      "cell_type": "markdown",
      "source": [
        "now i use data.dropna function to drop Nan values and display the data again then check for any duplicates"
      ],
      "metadata": {
        "id": "xSBAVMJI6zBB"
      },
      "id": "xSBAVMJI6zBB"
    },
    {
      "cell_type": "code",
      "execution_count": null,
      "id": "a77f03a1",
      "metadata": {
        "id": "a77f03a1"
      },
      "outputs": [],
      "source": [
        "data1=data.dropna()"
      ]
    },
    {
      "cell_type": "code",
      "execution_count": null,
      "id": "a0578924",
      "metadata": {
        "id": "a0578924",
        "outputId": "b275dd64-46de-4516-e362-45e9fc7881b3"
      },
      "outputs": [
        {
          "data": {
            "text/html": [
              "<div>\n",
              "<style scoped>\n",
              "    .dataframe tbody tr th:only-of-type {\n",
              "        vertical-align: middle;\n",
              "    }\n",
              "\n",
              "    .dataframe tbody tr th {\n",
              "        vertical-align: top;\n",
              "    }\n",
              "\n",
              "    .dataframe thead th {\n",
              "        text-align: right;\n",
              "    }\n",
              "</style>\n",
              "<table border=\"1\" class=\"dataframe\">\n",
              "  <thead>\n",
              "    <tr style=\"text-align: right;\">\n",
              "      <th></th>\n",
              "      <th>Store</th>\n",
              "      <th>Date</th>\n",
              "      <th>Temperature</th>\n",
              "      <th>Fuel_Price</th>\n",
              "      <th>MarkDown1</th>\n",
              "      <th>MarkDown2</th>\n",
              "      <th>MarkDown3</th>\n",
              "      <th>MarkDown4</th>\n",
              "      <th>MarkDown5</th>\n",
              "      <th>CPI</th>\n",
              "      <th>Unemployment</th>\n",
              "      <th>IsHoliday</th>\n",
              "    </tr>\n",
              "  </thead>\n",
              "  <tbody>\n",
              "    <tr>\n",
              "      <th>92</th>\n",
              "      <td>1</td>\n",
              "      <td>2011-11-11</td>\n",
              "      <td>59.11</td>\n",
              "      <td>3.297</td>\n",
              "      <td>10382.90</td>\n",
              "      <td>6115.67</td>\n",
              "      <td>215.07</td>\n",
              "      <td>2406.62</td>\n",
              "      <td>6551.42</td>\n",
              "      <td>217.998085</td>\n",
              "      <td>7.866</td>\n",
              "      <td>False</td>\n",
              "    </tr>\n",
              "    <tr>\n",
              "      <th>93</th>\n",
              "      <td>1</td>\n",
              "      <td>2011-11-18</td>\n",
              "      <td>62.25</td>\n",
              "      <td>3.308</td>\n",
              "      <td>6074.12</td>\n",
              "      <td>254.39</td>\n",
              "      <td>51.98</td>\n",
              "      <td>427.39</td>\n",
              "      <td>5988.57</td>\n",
              "      <td>218.220509</td>\n",
              "      <td>7.866</td>\n",
              "      <td>False</td>\n",
              "    </tr>\n",
              "    <tr>\n",
              "      <th>94</th>\n",
              "      <td>1</td>\n",
              "      <td>2011-11-25</td>\n",
              "      <td>60.14</td>\n",
              "      <td>3.236</td>\n",
              "      <td>410.31</td>\n",
              "      <td>98.00</td>\n",
              "      <td>55805.51</td>\n",
              "      <td>8.00</td>\n",
              "      <td>554.92</td>\n",
              "      <td>218.467621</td>\n",
              "      <td>7.866</td>\n",
              "      <td>True</td>\n",
              "    </tr>\n",
              "    <tr>\n",
              "      <th>95</th>\n",
              "      <td>1</td>\n",
              "      <td>2011-12-02</td>\n",
              "      <td>48.91</td>\n",
              "      <td>3.172</td>\n",
              "      <td>5629.51</td>\n",
              "      <td>68.00</td>\n",
              "      <td>1398.11</td>\n",
              "      <td>2084.64</td>\n",
              "      <td>20475.32</td>\n",
              "      <td>218.714733</td>\n",
              "      <td>7.866</td>\n",
              "      <td>False</td>\n",
              "    </tr>\n",
              "    <tr>\n",
              "      <th>96</th>\n",
              "      <td>1</td>\n",
              "      <td>2011-12-09</td>\n",
              "      <td>43.93</td>\n",
              "      <td>3.158</td>\n",
              "      <td>4640.65</td>\n",
              "      <td>19.00</td>\n",
              "      <td>105.02</td>\n",
              "      <td>3639.42</td>\n",
              "      <td>14461.82</td>\n",
              "      <td>218.961846</td>\n",
              "      <td>7.866</td>\n",
              "      <td>False</td>\n",
              "    </tr>\n",
              "    <tr>\n",
              "      <th>...</th>\n",
              "      <td>...</td>\n",
              "      <td>...</td>\n",
              "      <td>...</td>\n",
              "      <td>...</td>\n",
              "      <td>...</td>\n",
              "      <td>...</td>\n",
              "      <td>...</td>\n",
              "      <td>...</td>\n",
              "      <td>...</td>\n",
              "      <td>...</td>\n",
              "      <td>...</td>\n",
              "      <td>...</td>\n",
              "    </tr>\n",
              "    <tr>\n",
              "      <th>8168</th>\n",
              "      <td>45</td>\n",
              "      <td>2013-03-01</td>\n",
              "      <td>39.72</td>\n",
              "      <td>3.890</td>\n",
              "      <td>6614.32</td>\n",
              "      <td>147.82</td>\n",
              "      <td>5.60</td>\n",
              "      <td>27.55</td>\n",
              "      <td>1668.95</td>\n",
              "      <td>193.122173</td>\n",
              "      <td>8.625</td>\n",
              "      <td>False</td>\n",
              "    </tr>\n",
              "    <tr>\n",
              "      <th>8169</th>\n",
              "      <td>45</td>\n",
              "      <td>2013-03-08</td>\n",
              "      <td>36.13</td>\n",
              "      <td>3.860</td>\n",
              "      <td>16382.54</td>\n",
              "      <td>88.67</td>\n",
              "      <td>34.62</td>\n",
              "      <td>3096.92</td>\n",
              "      <td>3486.91</td>\n",
              "      <td>193.211524</td>\n",
              "      <td>8.625</td>\n",
              "      <td>False</td>\n",
              "    </tr>\n",
              "    <tr>\n",
              "      <th>8173</th>\n",
              "      <td>45</td>\n",
              "      <td>2013-04-05</td>\n",
              "      <td>43.94</td>\n",
              "      <td>3.763</td>\n",
              "      <td>16427.83</td>\n",
              "      <td>5341.41</td>\n",
              "      <td>182.59</td>\n",
              "      <td>1523.83</td>\n",
              "      <td>1743.09</td>\n",
              "      <td>193.516047</td>\n",
              "      <td>8.335</td>\n",
              "      <td>False</td>\n",
              "    </tr>\n",
              "    <tr>\n",
              "      <th>8174</th>\n",
              "      <td>45</td>\n",
              "      <td>2013-04-12</td>\n",
              "      <td>57.39</td>\n",
              "      <td>3.724</td>\n",
              "      <td>8760.15</td>\n",
              "      <td>1713.11</td>\n",
              "      <td>21.08</td>\n",
              "      <td>1302.31</td>\n",
              "      <td>1380.74</td>\n",
              "      <td>193.589304</td>\n",
              "      <td>8.335</td>\n",
              "      <td>False</td>\n",
              "    </tr>\n",
              "    <tr>\n",
              "      <th>8175</th>\n",
              "      <td>45</td>\n",
              "      <td>2013-04-19</td>\n",
              "      <td>56.27</td>\n",
              "      <td>3.676</td>\n",
              "      <td>1399.81</td>\n",
              "      <td>39.89</td>\n",
              "      <td>44.38</td>\n",
              "      <td>60.83</td>\n",
              "      <td>1445.05</td>\n",
              "      <td>193.589304</td>\n",
              "      <td>8.335</td>\n",
              "      <td>False</td>\n",
              "    </tr>\n",
              "  </tbody>\n",
              "</table>\n",
              "<p>2069 rows × 12 columns</p>\n",
              "</div>"
            ],
            "text/plain": [
              "      Store        Date  Temperature  Fuel_Price  MarkDown1  MarkDown2  \\\n",
              "92        1  2011-11-11        59.11       3.297   10382.90    6115.67   \n",
              "93        1  2011-11-18        62.25       3.308    6074.12     254.39   \n",
              "94        1  2011-11-25        60.14       3.236     410.31      98.00   \n",
              "95        1  2011-12-02        48.91       3.172    5629.51      68.00   \n",
              "96        1  2011-12-09        43.93       3.158    4640.65      19.00   \n",
              "...     ...         ...          ...         ...        ...        ...   \n",
              "8168     45  2013-03-01        39.72       3.890    6614.32     147.82   \n",
              "8169     45  2013-03-08        36.13       3.860   16382.54      88.67   \n",
              "8173     45  2013-04-05        43.94       3.763   16427.83    5341.41   \n",
              "8174     45  2013-04-12        57.39       3.724    8760.15    1713.11   \n",
              "8175     45  2013-04-19        56.27       3.676    1399.81      39.89   \n",
              "\n",
              "      MarkDown3  MarkDown4  MarkDown5         CPI  Unemployment  IsHoliday  \n",
              "92       215.07    2406.62    6551.42  217.998085         7.866      False  \n",
              "93        51.98     427.39    5988.57  218.220509         7.866      False  \n",
              "94     55805.51       8.00     554.92  218.467621         7.866       True  \n",
              "95      1398.11    2084.64   20475.32  218.714733         7.866      False  \n",
              "96       105.02    3639.42   14461.82  218.961846         7.866      False  \n",
              "...         ...        ...        ...         ...           ...        ...  \n",
              "8168       5.60      27.55    1668.95  193.122173         8.625      False  \n",
              "8169      34.62    3096.92    3486.91  193.211524         8.625      False  \n",
              "8173     182.59    1523.83    1743.09  193.516047         8.335      False  \n",
              "8174      21.08    1302.31    1380.74  193.589304         8.335      False  \n",
              "8175      44.38      60.83    1445.05  193.589304         8.335      False  \n",
              "\n",
              "[2069 rows x 12 columns]"
            ]
          },
          "execution_count": 41,
          "metadata": {},
          "output_type": "execute_result"
        }
      ],
      "source": [
        "data1"
      ]
    },
    {
      "cell_type": "code",
      "execution_count": null,
      "id": "c0c13417",
      "metadata": {
        "id": "c0c13417",
        "outputId": "e18dc60b-fd5c-4efc-e7b5-9e1d820634bb"
      },
      "outputs": [
        {
          "data": {
            "text/plain": [
              "0"
            ]
          },
          "execution_count": 42,
          "metadata": {},
          "output_type": "execute_result"
        }
      ],
      "source": [
        "len(data1.loc[data1.duplicated()==1])"
      ]
    },
    {
      "cell_type": "markdown",
      "source": [
        "Data1.corr() function is used for finding the pair wise correlation of all columns in the dataset"
      ],
      "metadata": {
        "id": "RjXvwkfK7JUx"
      },
      "id": "RjXvwkfK7JUx"
    },
    {
      "cell_type": "code",
      "execution_count": null,
      "id": "6897fa97",
      "metadata": {
        "id": "6897fa97",
        "outputId": "70f006ae-7d8f-4263-fc4c-0efc1af17d71"
      },
      "outputs": [
        {
          "data": {
            "text/html": [
              "<div>\n",
              "<style scoped>\n",
              "    .dataframe tbody tr th:only-of-type {\n",
              "        vertical-align: middle;\n",
              "    }\n",
              "\n",
              "    .dataframe tbody tr th {\n",
              "        vertical-align: top;\n",
              "    }\n",
              "\n",
              "    .dataframe thead th {\n",
              "        text-align: right;\n",
              "    }\n",
              "</style>\n",
              "<table border=\"1\" class=\"dataframe\">\n",
              "  <thead>\n",
              "    <tr style=\"text-align: right;\">\n",
              "      <th></th>\n",
              "      <th>Store</th>\n",
              "      <th>Temperature</th>\n",
              "      <th>Fuel_Price</th>\n",
              "      <th>MarkDown1</th>\n",
              "      <th>MarkDown2</th>\n",
              "      <th>MarkDown3</th>\n",
              "      <th>MarkDown4</th>\n",
              "      <th>MarkDown5</th>\n",
              "      <th>CPI</th>\n",
              "      <th>Unemployment</th>\n",
              "      <th>IsHoliday</th>\n",
              "    </tr>\n",
              "  </thead>\n",
              "  <tbody>\n",
              "    <tr>\n",
              "      <th>Store</th>\n",
              "      <td>1.000000</td>\n",
              "      <td>-0.152100</td>\n",
              "      <td>0.152548</td>\n",
              "      <td>-0.003625</td>\n",
              "      <td>-0.020623</td>\n",
              "      <td>-0.012355</td>\n",
              "      <td>0.006317</td>\n",
              "      <td>0.035344</td>\n",
              "      <td>-0.213588</td>\n",
              "      <td>0.242107</td>\n",
              "      <td>0.011544</td>\n",
              "    </tr>\n",
              "    <tr>\n",
              "      <th>Temperature</th>\n",
              "      <td>-0.152100</td>\n",
              "      <td>1.000000</td>\n",
              "      <td>0.208194</td>\n",
              "      <td>-0.047647</td>\n",
              "      <td>-0.307781</td>\n",
              "      <td>-0.045647</td>\n",
              "      <td>-0.075798</td>\n",
              "      <td>0.027309</td>\n",
              "      <td>0.203592</td>\n",
              "      <td>0.046882</td>\n",
              "      <td>-0.142032</td>\n",
              "    </tr>\n",
              "    <tr>\n",
              "      <th>Fuel_Price</th>\n",
              "      <td>0.152548</td>\n",
              "      <td>0.208194</td>\n",
              "      <td>1.000000</td>\n",
              "      <td>0.089197</td>\n",
              "      <td>-0.223142</td>\n",
              "      <td>-0.051729</td>\n",
              "      <td>0.005505</td>\n",
              "      <td>-0.011410</td>\n",
              "      <td>-0.394468</td>\n",
              "      <td>0.337483</td>\n",
              "      <td>-0.143263</td>\n",
              "    </tr>\n",
              "    <tr>\n",
              "      <th>MarkDown1</th>\n",
              "      <td>-0.003625</td>\n",
              "      <td>-0.047647</td>\n",
              "      <td>0.089197</td>\n",
              "      <td>1.000000</td>\n",
              "      <td>-0.028947</td>\n",
              "      <td>-0.113195</td>\n",
              "      <td>0.819042</td>\n",
              "      <td>0.038709</td>\n",
              "      <td>-0.034599</td>\n",
              "      <td>0.021090</td>\n",
              "      <td>0.164623</td>\n",
              "    </tr>\n",
              "    <tr>\n",
              "      <th>MarkDown2</th>\n",
              "      <td>-0.020623</td>\n",
              "      <td>-0.307781</td>\n",
              "      <td>-0.223142</td>\n",
              "      <td>-0.028947</td>\n",
              "      <td>1.000000</td>\n",
              "      <td>-0.066560</td>\n",
              "      <td>-0.070195</td>\n",
              "      <td>-0.020200</td>\n",
              "      <td>-0.041988</td>\n",
              "      <td>0.001475</td>\n",
              "      <td>0.295559</td>\n",
              "    </tr>\n",
              "    <tr>\n",
              "      <th>MarkDown3</th>\n",
              "      <td>-0.012355</td>\n",
              "      <td>-0.045647</td>\n",
              "      <td>-0.051729</td>\n",
              "      <td>-0.113195</td>\n",
              "      <td>-0.066560</td>\n",
              "      <td>1.000000</td>\n",
              "      <td>-0.070548</td>\n",
              "      <td>-0.019082</td>\n",
              "      <td>-0.023300</td>\n",
              "      <td>-0.001683</td>\n",
              "      <td>0.407625</td>\n",
              "    </tr>\n",
              "    <tr>\n",
              "      <th>MarkDown4</th>\n",
              "      <td>0.006317</td>\n",
              "      <td>-0.075798</td>\n",
              "      <td>0.005505</td>\n",
              "      <td>0.819042</td>\n",
              "      <td>-0.070195</td>\n",
              "      <td>-0.070548</td>\n",
              "      <td>1.000000</td>\n",
              "      <td>0.026220</td>\n",
              "      <td>-0.048386</td>\n",
              "      <td>0.010421</td>\n",
              "      <td>0.134053</td>\n",
              "    </tr>\n",
              "    <tr>\n",
              "      <th>MarkDown5</th>\n",
              "      <td>0.035344</td>\n",
              "      <td>0.027309</td>\n",
              "      <td>-0.011410</td>\n",
              "      <td>0.038709</td>\n",
              "      <td>-0.020200</td>\n",
              "      <td>-0.019082</td>\n",
              "      <td>0.026220</td>\n",
              "      <td>1.000000</td>\n",
              "      <td>0.000966</td>\n",
              "      <td>0.043263</td>\n",
              "      <td>-0.032904</td>\n",
              "    </tr>\n",
              "    <tr>\n",
              "      <th>CPI</th>\n",
              "      <td>-0.213588</td>\n",
              "      <td>0.203592</td>\n",
              "      <td>-0.394468</td>\n",
              "      <td>-0.034599</td>\n",
              "      <td>-0.041988</td>\n",
              "      <td>-0.023300</td>\n",
              "      <td>-0.048386</td>\n",
              "      <td>0.000966</td>\n",
              "      <td>1.000000</td>\n",
              "      <td>-0.303287</td>\n",
              "      <td>0.001003</td>\n",
              "    </tr>\n",
              "    <tr>\n",
              "      <th>Unemployment</th>\n",
              "      <td>0.242107</td>\n",
              "      <td>0.046882</td>\n",
              "      <td>0.337483</td>\n",
              "      <td>0.021090</td>\n",
              "      <td>0.001475</td>\n",
              "      <td>-0.001683</td>\n",
              "      <td>0.010421</td>\n",
              "      <td>0.043263</td>\n",
              "      <td>-0.303287</td>\n",
              "      <td>1.000000</td>\n",
              "      <td>0.007872</td>\n",
              "    </tr>\n",
              "    <tr>\n",
              "      <th>IsHoliday</th>\n",
              "      <td>0.011544</td>\n",
              "      <td>-0.142032</td>\n",
              "      <td>-0.143263</td>\n",
              "      <td>0.164623</td>\n",
              "      <td>0.295559</td>\n",
              "      <td>0.407625</td>\n",
              "      <td>0.134053</td>\n",
              "      <td>-0.032904</td>\n",
              "      <td>0.001003</td>\n",
              "      <td>0.007872</td>\n",
              "      <td>1.000000</td>\n",
              "    </tr>\n",
              "  </tbody>\n",
              "</table>\n",
              "</div>"
            ],
            "text/plain": [
              "                 Store  Temperature  Fuel_Price  MarkDown1  MarkDown2  \\\n",
              "Store         1.000000    -0.152100    0.152548  -0.003625  -0.020623   \n",
              "Temperature  -0.152100     1.000000    0.208194  -0.047647  -0.307781   \n",
              "Fuel_Price    0.152548     0.208194    1.000000   0.089197  -0.223142   \n",
              "MarkDown1    -0.003625    -0.047647    0.089197   1.000000  -0.028947   \n",
              "MarkDown2    -0.020623    -0.307781   -0.223142  -0.028947   1.000000   \n",
              "MarkDown3    -0.012355    -0.045647   -0.051729  -0.113195  -0.066560   \n",
              "MarkDown4     0.006317    -0.075798    0.005505   0.819042  -0.070195   \n",
              "MarkDown5     0.035344     0.027309   -0.011410   0.038709  -0.020200   \n",
              "CPI          -0.213588     0.203592   -0.394468  -0.034599  -0.041988   \n",
              "Unemployment  0.242107     0.046882    0.337483   0.021090   0.001475   \n",
              "IsHoliday     0.011544    -0.142032   -0.143263   0.164623   0.295559   \n",
              "\n",
              "              MarkDown3  MarkDown4  MarkDown5       CPI  Unemployment  \\\n",
              "Store         -0.012355   0.006317   0.035344 -0.213588      0.242107   \n",
              "Temperature   -0.045647  -0.075798   0.027309  0.203592      0.046882   \n",
              "Fuel_Price    -0.051729   0.005505  -0.011410 -0.394468      0.337483   \n",
              "MarkDown1     -0.113195   0.819042   0.038709 -0.034599      0.021090   \n",
              "MarkDown2     -0.066560  -0.070195  -0.020200 -0.041988      0.001475   \n",
              "MarkDown3      1.000000  -0.070548  -0.019082 -0.023300     -0.001683   \n",
              "MarkDown4     -0.070548   1.000000   0.026220 -0.048386      0.010421   \n",
              "MarkDown5     -0.019082   0.026220   1.000000  0.000966      0.043263   \n",
              "CPI           -0.023300  -0.048386   0.000966  1.000000     -0.303287   \n",
              "Unemployment  -0.001683   0.010421   0.043263 -0.303287      1.000000   \n",
              "IsHoliday      0.407625   0.134053  -0.032904  0.001003      0.007872   \n",
              "\n",
              "              IsHoliday  \n",
              "Store          0.011544  \n",
              "Temperature   -0.142032  \n",
              "Fuel_Price    -0.143263  \n",
              "MarkDown1      0.164623  \n",
              "MarkDown2      0.295559  \n",
              "MarkDown3      0.407625  \n",
              "MarkDown4      0.134053  \n",
              "MarkDown5     -0.032904  \n",
              "CPI            0.001003  \n",
              "Unemployment   0.007872  \n",
              "IsHoliday      1.000000  "
            ]
          },
          "execution_count": 43,
          "metadata": {},
          "output_type": "execute_result"
        }
      ],
      "source": [
        "data1.corr()"
      ]
    },
    {
      "cell_type": "markdown",
      "id": "52bde064",
      "metadata": {
        "id": "52bde064"
      },
      "source": [
        "# data visualization"
      ]
    },
    {
      "cell_type": "markdown",
      "source": [
        "is ready for building a model\n",
        "Now I am visualizing the data using the matplot lib and seaborn\n"
      ],
      "metadata": {
        "id": "SEkrfK7u7TMv"
      },
      "id": "SEkrfK7u7TMv"
    },
    {
      "cell_type": "code",
      "execution_count": null,
      "id": "004d2c48",
      "metadata": {
        "id": "004d2c48",
        "outputId": "2361fe42-eb46-4872-9be7-f00eb7918fba"
      },
      "outputs": [
        {
          "data": {
            "text/plain": [
              "<AxesSubplot:ylabel='Frequency'>"
            ]
          },
          "execution_count": 44,
          "metadata": {},
          "output_type": "execute_result"
        },
        {
          "data": {
            "image/png": "[encoded data removed]",
            "text/plain": [
              "<Figure size 648x360 with 1 Axes>"
            ]
          },
          "metadata": {
            "needs_background": "light"
          },
          "output_type": "display_data"
        }
      ],
      "source": [
        "data1['Unemployment'].plot(kind='hist', bins=50, figsize=(9, 5))"
      ]
    },
    {
      "cell_type": "markdown",
      "source": [
        " i start the main process of building the model firstly I analyze the dataset based on the column is holiday"
      ],
      "metadata": {
        "id": "QOrSMyru7h6C"
      },
      "id": "QOrSMyru7h6C"
    },
    {
      "cell_type": "code",
      "execution_count": null,
      "id": "da99791e",
      "metadata": {
        "id": "da99791e",
        "outputId": "bc928b92-edee-45d6-ecc5-d86323075960"
      },
      "outputs": [
        {
          "data": {
            "text/plain": [
              "array([False,  True])"
            ]
          },
          "execution_count": 45,
          "metadata": {},
          "output_type": "execute_result"
        }
      ],
      "source": [
        "data1['IsHoliday'].unique()[:10]"
      ]
    },
    {
      "cell_type": "code",
      "execution_count": null,
      "id": "3794c0ca",
      "metadata": {
        "scrolled": true,
        "id": "3794c0ca",
        "outputId": "400b2d1b-f307-48ce-c682-c26242c80b36"
      },
      "outputs": [
        {
          "data": {
            "image/png": "[encoded data removed]",
            "text/plain": [
              "<Figure size 720x360 with 1 Axes>"
            ]
          },
          "metadata": {
            "needs_background": "light"
          },
          "output_type": "display_data"
        }
      ],
      "source": [
        "plt.figure(figsize=(10,5))\n",
        "sns.boxplot(x=data1['IsHoliday'], y=data1['Unemployment']);"
      ]
    },
    {
      "cell_type": "markdown",
      "id": "968e7b8f",
      "metadata": {
        "id": "968e7b8f"
      },
      "source": [
        "# sentiment analysis"
      ]
    },
    {
      "cell_type": "code",
      "execution_count": null,
      "id": "5f0998ed",
      "metadata": {
        "id": "5f0998ed",
        "outputId": "0827353b-d2b7-4bf1-b17f-66b067881442"
      },
      "outputs": [
        {
          "name": "stderr",
          "output_type": "stream",
          "text": [
            "C:\\ProgramData\\Anaconda3\\lib\\site-packages\\seaborn\\_decorators.py:36: FutureWarning: Pass the following variable as a keyword arg: x. From version 0.12, the only valid positional argument will be `data`, and passing other arguments without an explicit keyword will result in an error or misinterpretation.\n",
            "  warnings.warn(\n"
          ]
        },
        {
          "data": {
            "text/plain": [
              "<AxesSubplot:xlabel='IsHoliday', ylabel='count'>"
            ]
          },
          "execution_count": 47,
          "metadata": {},
          "output_type": "execute_result"
        },
        {
          "data": {
            "image/png": "[encoded data removed]",
            "text/plain": [
              "<Figure size 432x288 with 1 Axes>"
            ]
          },
          "metadata": {
            "needs_background": "light"
          },
          "output_type": "display_data"
        }
      ],
      "source": [
        "sns.countplot(data1['IsHoliday'])"
      ]
    },
    {
      "cell_type": "code",
      "execution_count": null,
      "id": "ebad2d9d",
      "metadata": {
        "id": "ebad2d9d",
        "outputId": "18b5a5d2-2962-470f-95cb-7c207801978a"
      },
      "outputs": [
        {
          "name": "stdout",
          "output_type": "stream",
          "text": [
            "False    88.061866\n",
            "True     11.938134\n",
            "Name: IsHoliday, dtype: float64\n"
          ]
        },
        {
          "data": {
            "text/plain": [
              "([<matplotlib.patches.Wedge at 0x1ae1252bf10>,\n",
              "  <matplotlib.patches.Wedge at 0x1ae1253c430>],\n",
              " [Text(-1.0235391931532076, 0.4029485327920691, 'false'),\n",
              "  Text(1.0235391648581318, -0.4029486046650595, 'true')])"
            ]
          },
          "execution_count": 48,
          "metadata": {},
          "output_type": "execute_result"
        },
        {
          "data": {
            "image/png": "[encoded data removed]",
            "text/plain": [
              "<Figure size 432x288 with 1 Axes>"
            ]
          },
          "metadata": {},
          "output_type": "display_data"
        }
      ],
      "source": [
        "df=data1['IsHoliday'].value_counts()\n",
        "print((df*100)/df.sum())\n",
        "plt.pie(df,labels=['false', 'true'])"
      ]
    },
    {
      "cell_type": "markdown",
      "id": "2575513f",
      "metadata": {
        "id": "2575513f"
      },
      "source": [
        "# feature extraction"
      ]
    },
    {
      "cell_type": "code",
      "execution_count": null,
      "id": "e3cf8751",
      "metadata": {
        "scrolled": true,
        "id": "e3cf8751",
        "outputId": "2803ad09-0d4c-405d-b44f-8664c8fc6027"
      },
      "outputs": [
        {
          "data": {
            "text/html": [
              "<div>\n",
              "<style scoped>\n",
              "    .dataframe tbody tr th:only-of-type {\n",
              "        vertical-align: middle;\n",
              "    }\n",
              "\n",
              "    .dataframe tbody tr th {\n",
              "        vertical-align: top;\n",
              "    }\n",
              "\n",
              "    .dataframe thead th {\n",
              "        text-align: right;\n",
              "    }\n",
              "</style>\n",
              "<table border=\"1\" class=\"dataframe\">\n",
              "  <thead>\n",
              "    <tr style=\"text-align: right;\">\n",
              "      <th></th>\n",
              "      <th>Store</th>\n",
              "      <th>Temperature</th>\n",
              "      <th>Fuel_Price</th>\n",
              "      <th>MarkDown1</th>\n",
              "      <th>MarkDown2</th>\n",
              "      <th>MarkDown3</th>\n",
              "      <th>MarkDown4</th>\n",
              "      <th>MarkDown5</th>\n",
              "      <th>CPI</th>\n",
              "      <th>Unemployment</th>\n",
              "      <th>...</th>\n",
              "      <th>Date_2013-02-08</th>\n",
              "      <th>Date_2013-02-15</th>\n",
              "      <th>Date_2013-02-22</th>\n",
              "      <th>Date_2013-03-01</th>\n",
              "      <th>Date_2013-03-08</th>\n",
              "      <th>Date_2013-03-15</th>\n",
              "      <th>Date_2013-04-05</th>\n",
              "      <th>Date_2013-04-12</th>\n",
              "      <th>Date_2013-04-19</th>\n",
              "      <th>Date_2013-04-26</th>\n",
              "    </tr>\n",
              "  </thead>\n",
              "  <tbody>\n",
              "    <tr>\n",
              "      <th>92</th>\n",
              "      <td>1</td>\n",
              "      <td>59.11</td>\n",
              "      <td>3.297</td>\n",
              "      <td>10382.90</td>\n",
              "      <td>6115.67</td>\n",
              "      <td>215.07</td>\n",
              "      <td>2406.62</td>\n",
              "      <td>6551.42</td>\n",
              "      <td>217.998085</td>\n",
              "      <td>7.866</td>\n",
              "      <td>...</td>\n",
              "      <td>0</td>\n",
              "      <td>0</td>\n",
              "      <td>0</td>\n",
              "      <td>0</td>\n",
              "      <td>0</td>\n",
              "      <td>0</td>\n",
              "      <td>0</td>\n",
              "      <td>0</td>\n",
              "      <td>0</td>\n",
              "      <td>0</td>\n",
              "    </tr>\n",
              "    <tr>\n",
              "      <th>93</th>\n",
              "      <td>1</td>\n",
              "      <td>62.25</td>\n",
              "      <td>3.308</td>\n",
              "      <td>6074.12</td>\n",
              "      <td>254.39</td>\n",
              "      <td>51.98</td>\n",
              "      <td>427.39</td>\n",
              "      <td>5988.57</td>\n",
              "      <td>218.220509</td>\n",
              "      <td>7.866</td>\n",
              "      <td>...</td>\n",
              "      <td>0</td>\n",
              "      <td>0</td>\n",
              "      <td>0</td>\n",
              "      <td>0</td>\n",
              "      <td>0</td>\n",
              "      <td>0</td>\n",
              "      <td>0</td>\n",
              "      <td>0</td>\n",
              "      <td>0</td>\n",
              "      <td>0</td>\n",
              "    </tr>\n",
              "    <tr>\n",
              "      <th>94</th>\n",
              "      <td>1</td>\n",
              "      <td>60.14</td>\n",
              "      <td>3.236</td>\n",
              "      <td>410.31</td>\n",
              "      <td>98.00</td>\n",
              "      <td>55805.51</td>\n",
              "      <td>8.00</td>\n",
              "      <td>554.92</td>\n",
              "      <td>218.467621</td>\n",
              "      <td>7.866</td>\n",
              "      <td>...</td>\n",
              "      <td>0</td>\n",
              "      <td>0</td>\n",
              "      <td>0</td>\n",
              "      <td>0</td>\n",
              "      <td>0</td>\n",
              "      <td>0</td>\n",
              "      <td>0</td>\n",
              "      <td>0</td>\n",
              "      <td>0</td>\n",
              "      <td>0</td>\n",
              "    </tr>\n",
              "    <tr>\n",
              "      <th>95</th>\n",
              "      <td>1</td>\n",
              "      <td>48.91</td>\n",
              "      <td>3.172</td>\n",
              "      <td>5629.51</td>\n",
              "      <td>68.00</td>\n",
              "      <td>1398.11</td>\n",
              "      <td>2084.64</td>\n",
              "      <td>20475.32</td>\n",
              "      <td>218.714733</td>\n",
              "      <td>7.866</td>\n",
              "      <td>...</td>\n",
              "      <td>0</td>\n",
              "      <td>0</td>\n",
              "      <td>0</td>\n",
              "      <td>0</td>\n",
              "      <td>0</td>\n",
              "      <td>0</td>\n",
              "      <td>0</td>\n",
              "      <td>0</td>\n",
              "      <td>0</td>\n",
              "      <td>0</td>\n",
              "    </tr>\n",
              "    <tr>\n",
              "      <th>96</th>\n",
              "      <td>1</td>\n",
              "      <td>43.93</td>\n",
              "      <td>3.158</td>\n",
              "      <td>4640.65</td>\n",
              "      <td>19.00</td>\n",
              "      <td>105.02</td>\n",
              "      <td>3639.42</td>\n",
              "      <td>14461.82</td>\n",
              "      <td>218.961846</td>\n",
              "      <td>7.866</td>\n",
              "      <td>...</td>\n",
              "      <td>0</td>\n",
              "      <td>0</td>\n",
              "      <td>0</td>\n",
              "      <td>0</td>\n",
              "      <td>0</td>\n",
              "      <td>0</td>\n",
              "      <td>0</td>\n",
              "      <td>0</td>\n",
              "      <td>0</td>\n",
              "      <td>0</td>\n",
              "    </tr>\n",
              "  </tbody>\n",
              "</table>\n",
              "<p>5 rows × 80 columns</p>\n",
              "</div>"
            ],
            "text/plain": [
              "    Store  Temperature  Fuel_Price  MarkDown1  MarkDown2  MarkDown3  \\\n",
              "92      1        59.11       3.297   10382.90    6115.67     215.07   \n",
              "93      1        62.25       3.308    6074.12     254.39      51.98   \n",
              "94      1        60.14       3.236     410.31      98.00   55805.51   \n",
              "95      1        48.91       3.172    5629.51      68.00    1398.11   \n",
              "96      1        43.93       3.158    4640.65      19.00     105.02   \n",
              "\n",
              "    MarkDown4  MarkDown5         CPI  Unemployment  ...  Date_2013-02-08  \\\n",
              "92    2406.62    6551.42  217.998085         7.866  ...                0   \n",
              "93     427.39    5988.57  218.220509         7.866  ...                0   \n",
              "94       8.00     554.92  218.467621         7.866  ...                0   \n",
              "95    2084.64   20475.32  218.714733         7.866  ...                0   \n",
              "96    3639.42   14461.82  218.961846         7.866  ...                0   \n",
              "\n",
              "    Date_2013-02-15  Date_2013-02-22  Date_2013-03-01  Date_2013-03-08  \\\n",
              "92                0                0                0                0   \n",
              "93                0                0                0                0   \n",
              "94                0                0                0                0   \n",
              "95                0                0                0                0   \n",
              "96                0                0                0                0   \n",
              "\n",
              "    Date_2013-03-15  Date_2013-04-05  Date_2013-04-12  Date_2013-04-19  \\\n",
              "92                0                0                0                0   \n",
              "93                0                0                0                0   \n",
              "94                0                0                0                0   \n",
              "95                0                0                0                0   \n",
              "96                0                0                0                0   \n",
              "\n",
              "    Date_2013-04-26  \n",
              "92                0  \n",
              "93                0  \n",
              "94                0  \n",
              "95                0  \n",
              "96                0  \n",
              "\n",
              "[5 rows x 80 columns]"
            ]
          },
          "execution_count": 49,
          "metadata": {},
          "output_type": "execute_result"
        }
      ],
      "source": [
        "data1 = pd.get_dummies(data1, drop_first=True)  \n",
        "data1.head()"
      ]
    },
    {
      "cell_type": "code",
      "execution_count": null,
      "id": "b57c3d83",
      "metadata": {
        "id": "b57c3d83"
      },
      "outputs": [],
      "source": [
        "from sklearn.model_selection import train_test_split\n",
        "x = data1[data1.loc[:, data1.columns != 'Store'].columns]\n",
        "y = data1['Store']\n",
        "x_train, x_test, y_train, y_test = train_test_split(x, y, test_size=.2, random_state=1)"
      ]
    },
    {
      "cell_type": "code",
      "execution_count": null,
      "id": "5d90a7af",
      "metadata": {
        "id": "5d90a7af",
        "outputId": "ebcd20f2-3a85-42af-ba0b-1edb387fcf72"
      },
      "outputs": [
        {
          "name": "stdout",
          "output_type": "stream",
          "text": [
            "['1', 'x0', 'x1', 'x2', 'x3', 'x4', 'x5', 'x6', 'x7', 'x8', 'x9', 'x10', 'x11', 'x12', 'x13', 'x14', 'x15', 'x16', 'x17', 'x18', 'x19', 'x20', 'x21', 'x22', 'x23', 'x24', 'x25', 'x26', 'x27', 'x28', 'x29', 'x30', 'x31', 'x32', 'x33', 'x34', 'x35', 'x36', 'x37', 'x38', 'x39', 'x40', 'x41', 'x42', 'x43', 'x44', 'x45', 'x46', 'x47', 'x48', 'x49', 'x50', 'x51', 'x52', 'x53', 'x54', 'x55', 'x56', 'x57', 'x58', 'x59', 'x60', 'x61', 'x62', 'x63', 'x64', 'x65', 'x66', 'x67', 'x68', 'x69', 'x70', 'x71', 'x72', 'x73', 'x74', 'x75', 'x76', 'x77', 'x78', 'x0^2', 'x0 x1', 'x0 x2', 'x0 x3', 'x0 x4', 'x0 x5', 'x0 x6', 'x0 x7', 'x0 x8', 'x0 x9', 'x0 x10', 'x0 x11', 'x0 x12', 'x0 x13', 'x0 x14', 'x0 x15', 'x0 x16', 'x0 x17', 'x0 x18', 'x0 x19', 'x0 x20', 'x0 x21', 'x0 x22', 'x0 x23', 'x0 x24', 'x0 x25', 'x0 x26', 'x0 x27', 'x0 x28', 'x0 x29', 'x0 x30', 'x0 x31', 'x0 x32', 'x0 x33', 'x0 x34', 'x0 x35', 'x0 x36', 'x0 x37', 'x0 x38', 'x0 x39', 'x0 x40', 'x0 x41', 'x0 x42', 'x0 x43', 'x0 x44', 'x0 x45', 'x0 x46', 'x0 x47', 'x0 x48', 'x0 x49', 'x0 x50', 'x0 x51', 'x0 x52', 'x0 x53', 'x0 x54', 'x0 x55', 'x0 x56', 'x0 x57', 'x0 x58', 'x0 x59', 'x0 x60', 'x0 x61', 'x0 x62', 'x0 x63', 'x0 x64', 'x0 x65', 'x0 x66', 'x0 x67', 'x0 x68', 'x0 x69', 'x0 x70', 'x0 x71', 'x0 x72', 'x0 x73', 'x0 x74', 'x0 x75', 'x0 x76', 'x0 x77', 'x0 x78', 'x1^2', 'x1 x2', 'x1 x3', 'x1 x4', 'x1 x5', 'x1 x6', 'x1 x7', 'x1 x8', 'x1 x9', 'x1 x10', 'x1 x11', 'x1 x12', 'x1 x13', 'x1 x14', 'x1 x15', 'x1 x16', 'x1 x17', 'x1 x18', 'x1 x19', 'x1 x20', 'x1 x21', 'x1 x22', 'x1 x23', 'x1 x24', 'x1 x25', 'x1 x26', 'x1 x27', 'x1 x28', 'x1 x29', 'x1 x30', 'x1 x31', 'x1 x32', 'x1 x33', 'x1 x34', 'x1 x35', 'x1 x36', 'x1 x37', 'x1 x38', 'x1 x39', 'x1 x40', 'x1 x41', 'x1 x42', 'x1 x43', 'x1 x44', 'x1 x45', 'x1 x46', 'x1 x47', 'x1 x48', 'x1 x49', 'x1 x50', 'x1 x51', 'x1 x52', 'x1 x53', 'x1 x54', 'x1 x55', 'x1 x56', 'x1 x57', 'x1 x58', 'x1 x59', 'x1 x60', 'x1 x61', 'x1 x62', 'x1 x63', 'x1 x64', 'x1 x65', 'x1 x66', 'x1 x67', 'x1 x68', 'x1 x69', 'x1 x70', 'x1 x71', 'x1 x72', 'x1 x73', 'x1 x74', 'x1 x75', 'x1 x76', 'x1 x77', 'x1 x78', 'x2^2', 'x2 x3', 'x2 x4', 'x2 x5', 'x2 x6', 'x2 x7', 'x2 x8', 'x2 x9', 'x2 x10', 'x2 x11', 'x2 x12', 'x2 x13', 'x2 x14', 'x2 x15', 'x2 x16', 'x2 x17', 'x2 x18', 'x2 x19', 'x2 x20', 'x2 x21', 'x2 x22', 'x2 x23', 'x2 x24', 'x2 x25', 'x2 x26', 'x2 x27', 'x2 x28', 'x2 x29', 'x2 x30', 'x2 x31', 'x2 x32', 'x2 x33', 'x2 x34', 'x2 x35', 'x2 x36', 'x2 x37', 'x2 x38', 'x2 x39', 'x2 x40', 'x2 x41', 'x2 x42', 'x2 x43', 'x2 x44', 'x2 x45', 'x2 x46', 'x2 x47', 'x2 x48', 'x2 x49', 'x2 x50', 'x2 x51', 'x2 x52', 'x2 x53', 'x2 x54', 'x2 x55', 'x2 x56', 'x2 x57', 'x2 x58', 'x2 x59', 'x2 x60', 'x2 x61', 'x2 x62', 'x2 x63', 'x2 x64', 'x2 x65', 'x2 x66', 'x2 x67', 'x2 x68', 'x2 x69', 'x2 x70', 'x2 x71', 'x2 x72', 'x2 x73', 'x2 x74', 'x2 x75', 'x2 x76', 'x2 x77', 'x2 x78', 'x3^2', 'x3 x4', 'x3 x5', 'x3 x6', 'x3 x7', 'x3 x8', 'x3 x9', 'x3 x10', 'x3 x11', 'x3 x12', 'x3 x13', 'x3 x14', 'x3 x15', 'x3 x16', 'x3 x17', 'x3 x18', 'x3 x19', 'x3 x20', 'x3 x21', 'x3 x22', 'x3 x23', 'x3 x24', 'x3 x25', 'x3 x26', 'x3 x27', 'x3 x28', 'x3 x29', 'x3 x30', 'x3 x31', 'x3 x32', 'x3 x33', 'x3 x34', 'x3 x35', 'x3 x36', 'x3 x37', 'x3 x38', 'x3 x39', 'x3 x40', 'x3 x41', 'x3 x42', 'x3 x43', 'x3 x44', 'x3 x45', 'x3 x46', 'x3 x47', 'x3 x48', 'x3 x49', 'x3 x50', 'x3 x51', 'x3 x52', 'x3 x53', 'x3 x54', 'x3 x55', 'x3 x56', 'x3 x57', 'x3 x58', 'x3 x59', 'x3 x60', 'x3 x61', 'x3 x62', 'x3 x63', 'x3 x64', 'x3 x65', 'x3 x66', 'x3 x67', 'x3 x68', 'x3 x69', 'x3 x70', 'x3 x71', 'x3 x72', 'x3 x73', 'x3 x74', 'x3 x75', 'x3 x76', 'x3 x77', 'x3 x78', 'x4^2', 'x4 x5', 'x4 x6', 'x4 x7', 'x4 x8', 'x4 x9', 'x4 x10', 'x4 x11', 'x4 x12', 'x4 x13', 'x4 x14', 'x4 x15', 'x4 x16', 'x4 x17', 'x4 x18', 'x4 x19', 'x4 x20', 'x4 x21', 'x4 x22', 'x4 x23', 'x4 x24', 'x4 x25', 'x4 x26', 'x4 x27', 'x4 x28', 'x4 x29', 'x4 x30', 'x4 x31', 'x4 x32', 'x4 x33', 'x4 x34', 'x4 x35', 'x4 x36', 'x4 x37', 'x4 x38', 'x4 x39', 'x4 x40', 'x4 x41', 'x4 x42', 'x4 x43', 'x4 x44', 'x4 x45', 'x4 x46', 'x4 x47', 'x4 x48', 'x4 x49', 'x4 x50', 'x4 x51', 'x4 x52', 'x4 x53', 'x4 x54', 'x4 x55', 'x4 x56', 'x4 x57', 'x4 x58', 'x4 x59', 'x4 x60', 'x4 x61', 'x4 x62', 'x4 x63', 'x4 x64', 'x4 x65', 'x4 x66', 'x4 x67', 'x4 x68', 'x4 x69', 'x4 x70', 'x4 x71', 'x4 x72', 'x4 x73', 'x4 x74', 'x4 x75', 'x4 x76', 'x4 x77', 'x4 x78', 'x5^2', 'x5 x6', 'x5 x7', 'x5 x8', 'x5 x9', 'x5 x10', 'x5 x11', 'x5 x12', 'x5 x13', 'x5 x14', 'x5 x15', 'x5 x16', 'x5 x17', 'x5 x18', 'x5 x19', 'x5 x20', 'x5 x21', 'x5 x22', 'x5 x23', 'x5 x24', 'x5 x25', 'x5 x26', 'x5 x27', 'x5 x28', 'x5 x29', 'x5 x30', 'x5 x31', 'x5 x32', 'x5 x33', 'x5 x34', 'x5 x35', 'x5 x36', 'x5 x37', 'x5 x38', 'x5 x39', 'x5 x40', 'x5 x41', 'x5 x42', 'x5 x43', 'x5 x44', 'x5 x45', 'x5 x46', 'x5 x47', 'x5 x48', 'x5 x49', 'x5 x50', 'x5 x51', 'x5 x52', 'x5 x53', 'x5 x54', 'x5 x55', 'x5 x56', 'x5 x57', 'x5 x58', 'x5 x59', 'x5 x60', 'x5 x61', 'x5 x62', 'x5 x63', 'x5 x64', 'x5 x65', 'x5 x66', 'x5 x67', 'x5 x68', 'x5 x69', 'x5 x70', 'x5 x71', 'x5 x72', 'x5 x73', 'x5 x74', 'x5 x75', 'x5 x76', 'x5 x77', 'x5 x78', 'x6^2', 'x6 x7', 'x6 x8', 'x6 x9', 'x6 x10', 'x6 x11', 'x6 x12', 'x6 x13', 'x6 x14', 'x6 x15', 'x6 x16', 'x6 x17', 'x6 x18', 'x6 x19', 'x6 x20', 'x6 x21', 'x6 x22', 'x6 x23', 'x6 x24', 'x6 x25', 'x6 x26', 'x6 x27', 'x6 x28', 'x6 x29', 'x6 x30', 'x6 x31', 'x6 x32', 'x6 x33', 'x6 x34', 'x6 x35', 'x6 x36', 'x6 x37', 'x6 x38', 'x6 x39', 'x6 x40', 'x6 x41', 'x6 x42', 'x6 x43', 'x6 x44', 'x6 x45', 'x6 x46', 'x6 x47', 'x6 x48', 'x6 x49', 'x6 x50', 'x6 x51', 'x6 x52', 'x6 x53', 'x6 x54', 'x6 x55', 'x6 x56', 'x6 x57', 'x6 x58', 'x6 x59', 'x6 x60', 'x6 x61', 'x6 x62', 'x6 x63', 'x6 x64', 'x6 x65', 'x6 x66', 'x6 x67', 'x6 x68', 'x6 x69', 'x6 x70', 'x6 x71', 'x6 x72', 'x6 x73', 'x6 x74', 'x6 x75', 'x6 x76', 'x6 x77', 'x6 x78', 'x7^2', 'x7 x8', 'x7 x9', 'x7 x10', 'x7 x11', 'x7 x12', 'x7 x13', 'x7 x14', 'x7 x15', 'x7 x16', 'x7 x17', 'x7 x18', 'x7 x19', 'x7 x20', 'x7 x21', 'x7 x22', 'x7 x23', 'x7 x24', 'x7 x25', 'x7 x26', 'x7 x27', 'x7 x28', 'x7 x29', 'x7 x30', 'x7 x31', 'x7 x32', 'x7 x33', 'x7 x34', 'x7 x35', 'x7 x36', 'x7 x37', 'x7 x38', 'x7 x39', 'x7 x40', 'x7 x41', 'x7 x42', 'x7 x43', 'x7 x44', 'x7 x45', 'x7 x46', 'x7 x47', 'x7 x48', 'x7 x49', 'x7 x50', 'x7 x51', 'x7 x52', 'x7 x53', 'x7 x54', 'x7 x55', 'x7 x56', 'x7 x57', 'x7 x58', 'x7 x59', 'x7 x60', 'x7 x61', 'x7 x62', 'x7 x63', 'x7 x64', 'x7 x65', 'x7 x66', 'x7 x67', 'x7 x68', 'x7 x69', 'x7 x70', 'x7 x71', 'x7 x72', 'x7 x73', 'x7 x74', 'x7 x75', 'x7 x76', 'x7 x77', 'x7 x78', 'x8^2', 'x8 x9', 'x8 x10', 'x8 x11', 'x8 x12', 'x8 x13', 'x8 x14', 'x8 x15', 'x8 x16', 'x8 x17', 'x8 x18', 'x8 x19', 'x8 x20', 'x8 x21', 'x8 x22', 'x8 x23', 'x8 x24', 'x8 x25', 'x8 x26', 'x8 x27', 'x8 x28', 'x8 x29', 'x8 x30', 'x8 x31', 'x8 x32', 'x8 x33', 'x8 x34', 'x8 x35', 'x8 x36', 'x8 x37', 'x8 x38', 'x8 x39', 'x8 x40', 'x8 x41', 'x8 x42', 'x8 x43', 'x8 x44', 'x8 x45', 'x8 x46', 'x8 x47', 'x8 x48', 'x8 x49', 'x8 x50', 'x8 x51', 'x8 x52', 'x8 x53', 'x8 x54', 'x8 x55', 'x8 x56', 'x8 x57', 'x8 x58', 'x8 x59', 'x8 x60', 'x8 x61', 'x8 x62', 'x8 x63', 'x8 x64', 'x8 x65', 'x8 x66', 'x8 x67', 'x8 x68', 'x8 x69', 'x8 x70', 'x8 x71', 'x8 x72', 'x8 x73', 'x8 x74', 'x8 x75', 'x8 x76', 'x8 x77', 'x8 x78', 'x9^2', 'x9 x10', 'x9 x11', 'x9 x12', 'x9 x13', 'x9 x14', 'x9 x15', 'x9 x16', 'x9 x17', 'x9 x18', 'x9 x19', 'x9 x20', 'x9 x21', 'x9 x22', 'x9 x23', 'x9 x24', 'x9 x25', 'x9 x26', 'x9 x27', 'x9 x28', 'x9 x29', 'x9 x30', 'x9 x31', 'x9 x32', 'x9 x33', 'x9 x34', 'x9 x35', 'x9 x36', 'x9 x37', 'x9 x38', 'x9 x39', 'x9 x40', 'x9 x41', 'x9 x42', 'x9 x43', 'x9 x44', 'x9 x45', 'x9 x46', 'x9 x47', 'x9 x48', 'x9 x49', 'x9 x50', 'x9 x51', 'x9 x52', 'x9 x53', 'x9 x54', 'x9 x55', 'x9 x56', 'x9 x57', 'x9 x58', 'x9 x59', 'x9 x60', 'x9 x61', 'x9 x62', 'x9 x63', 'x9 x64', 'x9 x65', 'x9 x66', 'x9 x67', 'x9 x68', 'x9 x69', 'x9 x70', 'x9 x71', 'x9 x72', 'x9 x73', 'x9 x74', 'x9 x75', 'x9 x76', 'x9 x77', 'x9 x78', 'x10^2', 'x10 x11', 'x10 x12', 'x10 x13', 'x10 x14', 'x10 x15', 'x10 x16', 'x10 x17', 'x10 x18', 'x10 x19', 'x10 x20', 'x10 x21', 'x10 x22', 'x10 x23', 'x10 x24', 'x10 x25', 'x10 x26', 'x10 x27', 'x10 x28', 'x10 x29', 'x10 x30', 'x10 x31', 'x10 x32', 'x10 x33', 'x10 x34', 'x10 x35', 'x10 x36', 'x10 x37', 'x10 x38', 'x10 x39', 'x10 x40', 'x10 x41', 'x10 x42', 'x10 x43', 'x10 x44', 'x10 x45', 'x10 x46', 'x10 x47', 'x10 x48', 'x10 x49', 'x10 x50', 'x10 x51', 'x10 x52', 'x10 x53', 'x10 x54', 'x10 x55', 'x10 x56', 'x10 x57', 'x10 x58', 'x10 x59', 'x10 x60', 'x10 x61', 'x10 x62', 'x10 x63', 'x10 x64', 'x10 x65', 'x10 x66', 'x10 x67', 'x10 x68', 'x10 x69', 'x10 x70', 'x10 x71', 'x10 x72', 'x10 x73', 'x10 x74', 'x10 x75', 'x10 x76', 'x10 x77', 'x10 x78', 'x11^2', 'x11 x12', 'x11 x13', 'x11 x14', 'x11 x15', 'x11 x16', 'x11 x17', 'x11 x18', 'x11 x19', 'x11 x20', 'x11 x21', 'x11 x22', 'x11 x23', 'x11 x24', 'x11 x25', 'x11 x26', 'x11 x27', 'x11 x28', 'x11 x29', 'x11 x30', 'x11 x31', 'x11 x32', 'x11 x33', 'x11 x34', 'x11 x35', 'x11 x36', 'x11 x37', 'x11 x38', 'x11 x39', 'x11 x40', 'x11 x41', 'x11 x42', 'x11 x43', 'x11 x44', 'x11 x45', 'x11 x46', 'x11 x47', 'x11 x48', 'x11 x49', 'x11 x50', 'x11 x51', 'x11 x52', 'x11 x53', 'x11 x54', 'x11 x55', 'x11 x56', 'x11 x57', 'x11 x58', 'x11 x59', 'x11 x60', 'x11 x61', 'x11 x62', 'x11 x63', 'x11 x64', 'x11 x65', 'x11 x66', 'x11 x67', 'x11 x68', 'x11 x69', 'x11 x70', 'x11 x71', 'x11 x72', 'x11 x73', 'x11 x74', 'x11 x75', 'x11 x76', 'x11 x77', 'x11 x78', 'x12^2', 'x12 x13', 'x12 x14', 'x12 x15', 'x12 x16', 'x12 x17', 'x12 x18', 'x12 x19', 'x12 x20', 'x12 x21', 'x12 x22', 'x12 x23', 'x12 x24', 'x12 x25', 'x12 x26', 'x12 x27', 'x12 x28', 'x12 x29', 'x12 x30', 'x12 x31', 'x12 x32', 'x12 x33', 'x12 x34', 'x12 x35', 'x12 x36', 'x12 x37', 'x12 x38', 'x12 x39', 'x12 x40', 'x12 x41', 'x12 x42', 'x12 x43', 'x12 x44', 'x12 x45', 'x12 x46', 'x12 x47', 'x12 x48', 'x12 x49', 'x12 x50', 'x12 x51', 'x12 x52', 'x12 x53', 'x12 x54', 'x12 x55', 'x12 x56', 'x12 x57', 'x12 x58', 'x12 x59', 'x12 x60', 'x12 x61', 'x12 x62', 'x12 x63', 'x12 x64', 'x12 x65', 'x12 x66', 'x12 x67', 'x12 x68', 'x12 x69', 'x12 x70', 'x12 x71', 'x12 x72', 'x12 x73', 'x12 x74', 'x12 x75', 'x12 x76', 'x12 x77', 'x12 x78', 'x13^2', 'x13 x14', 'x13 x15', 'x13 x16', 'x13 x17', 'x13 x18', 'x13 x19', 'x13 x20', 'x13 x21', 'x13 x22', 'x13 x23', 'x13 x24', 'x13 x25', 'x13 x26', 'x13 x27', 'x13 x28', 'x13 x29', 'x13 x30', 'x13 x31', 'x13 x32', 'x13 x33', 'x13 x34', 'x13 x35', 'x13 x36', 'x13 x37', 'x13 x38', 'x13 x39', 'x13 x40', 'x13 x41', 'x13 x42', 'x13 x43', 'x13 x44', 'x13 x45', 'x13 x46', 'x13 x47', 'x13 x48', 'x13 x49', 'x13 x50', 'x13 x51', 'x13 x52', 'x13 x53', 'x13 x54', 'x13 x55', 'x13 x56', 'x13 x57', 'x13 x58', 'x13 x59', 'x13 x60', 'x13 x61', 'x13 x62', 'x13 x63', 'x13 x64', 'x13 x65', 'x13 x66', 'x13 x67', 'x13 x68', 'x13 x69', 'x13 x70', 'x13 x71', 'x13 x72', 'x13 x73', 'x13 x74', 'x13 x75', 'x13 x76', 'x13 x77', 'x13 x78', 'x14^2', 'x14 x15', 'x14 x16', 'x14 x17', 'x14 x18', 'x14 x19', 'x14 x20', 'x14 x21', 'x14 x22', 'x14 x23', 'x14 x24', 'x14 x25', 'x14 x26', 'x14 x27', 'x14 x28', 'x14 x29', 'x14 x30', 'x14 x31', 'x14 x32', 'x14 x33', 'x14 x34', 'x14 x35', 'x14 x36', 'x14 x37', 'x14 x38', 'x14 x39', 'x14 x40', 'x14 x41', 'x14 x42', 'x14 x43', 'x14 x44', 'x14 x45', 'x14 x46', 'x14 x47', 'x14 x48', 'x14 x49', 'x14 x50', 'x14 x51', 'x14 x52', 'x14 x53', 'x14 x54', 'x14 x55', 'x14 x56', 'x14 x57', 'x14 x58', 'x14 x59', 'x14 x60', 'x14 x61', 'x14 x62', 'x14 x63', 'x14 x64', 'x14 x65', 'x14 x66', 'x14 x67', 'x14 x68', 'x14 x69', 'x14 x70', 'x14 x71', 'x14 x72', 'x14 x73', 'x14 x74', 'x14 x75', 'x14 x76', 'x14 x77', 'x14 x78', 'x15^2', 'x15 x16', 'x15 x17', 'x15 x18', 'x15 x19', 'x15 x20', 'x15 x21', 'x15 x22', 'x15 x23', 'x15 x24', 'x15 x25', 'x15 x26', 'x15 x27', 'x15 x28', 'x15 x29', 'x15 x30', 'x15 x31', 'x15 x32', 'x15 x33', 'x15 x34', 'x15 x35', 'x15 x36', 'x15 x37', 'x15 x38', 'x15 x39', 'x15 x40', 'x15 x41', 'x15 x42', 'x15 x43', 'x15 x44', 'x15 x45', 'x15 x46', 'x15 x47', 'x15 x48', 'x15 x49', 'x15 x50', 'x15 x51', 'x15 x52', 'x15 x53', 'x15 x54', 'x15 x55', 'x15 x56', 'x15 x57', 'x15 x58', 'x15 x59', 'x15 x60', 'x15 x61', 'x15 x62', 'x15 x63', 'x15 x64', 'x15 x65', 'x15 x66', 'x15 x67', 'x15 x68', 'x15 x69', 'x15 x70', 'x15 x71', 'x15 x72', 'x15 x73', 'x15 x74', 'x15 x75', 'x15 x76', 'x15 x77', 'x15 x78', 'x16^2', 'x16 x17', 'x16 x18', 'x16 x19', 'x16 x20', 'x16 x21', 'x16 x22', 'x16 x23', 'x16 x24', 'x16 x25', 'x16 x26', 'x16 x27', 'x16 x28', 'x16 x29', 'x16 x30', 'x16 x31', 'x16 x32', 'x16 x33', 'x16 x34', 'x16 x35', 'x16 x36', 'x16 x37', 'x16 x38', 'x16 x39', 'x16 x40', 'x16 x41', 'x16 x42', 'x16 x43', 'x16 x44', 'x16 x45', 'x16 x46', 'x16 x47', 'x16 x48', 'x16 x49', 'x16 x50', 'x16 x51', 'x16 x52', 'x16 x53', 'x16 x54', 'x16 x55', 'x16 x56', 'x16 x57', 'x16 x58', 'x16 x59', 'x16 x60', 'x16 x61', 'x16 x62', 'x16 x63', 'x16 x64', 'x16 x65', 'x16 x66', 'x16 x67', 'x16 x68', 'x16 x69', 'x16 x70', 'x16 x71', 'x16 x72', 'x16 x73', 'x16 x74', 'x16 x75', 'x16 x76', 'x16 x77', 'x16 x78', 'x17^2', 'x17 x18', 'x17 x19', 'x17 x20', 'x17 x21', 'x17 x22', 'x17 x23', 'x17 x24', 'x17 x25', 'x17 x26', 'x17 x27', 'x17 x28', 'x17 x29', 'x17 x30', 'x17 x31', 'x17 x32', 'x17 x33', 'x17 x34', 'x17 x35', 'x17 x36', 'x17 x37', 'x17 x38', 'x17 x39', 'x17 x40', 'x17 x41', 'x17 x42', 'x17 x43', 'x17 x44', 'x17 x45', 'x17 x46', 'x17 x47', 'x17 x48', 'x17 x49', 'x17 x50', 'x17 x51', 'x17 x52', 'x17 x53', 'x17 x54', 'x17 x55', 'x17 x56', 'x17 x57', 'x17 x58', 'x17 x59', 'x17 x60', 'x17 x61', 'x17 x62', 'x17 x63', 'x17 x64', 'x17 x65', 'x17 x66', 'x17 x67', 'x17 x68', 'x17 x69', 'x17 x70', 'x17 x71', 'x17 x72', 'x17 x73', 'x17 x74', 'x17 x75', 'x17 x76', 'x17 x77', 'x17 x78', 'x18^2', 'x18 x19', 'x18 x20', 'x18 x21', 'x18 x22', 'x18 x23', 'x18 x24', 'x18 x25', 'x18 x26', 'x18 x27', 'x18 x28', 'x18 x29', 'x18 x30', 'x18 x31', 'x18 x32', 'x18 x33', 'x18 x34', 'x18 x35', 'x18 x36', 'x18 x37', 'x18 x38', 'x18 x39', 'x18 x40', 'x18 x41', 'x18 x42', 'x18 x43', 'x18 x44', 'x18 x45', 'x18 x46', 'x18 x47', 'x18 x48', 'x18 x49', 'x18 x50', 'x18 x51', 'x18 x52', 'x18 x53', 'x18 x54', 'x18 x55', 'x18 x56', 'x18 x57', 'x18 x58', 'x18 x59', 'x18 x60', 'x18 x61', 'x18 x62', 'x18 x63', 'x18 x64', 'x18 x65', 'x18 x66', 'x18 x67', 'x18 x68', 'x18 x69', 'x18 x70', 'x18 x71', 'x18 x72', 'x18 x73', 'x18 x74', 'x18 x75', 'x18 x76', 'x18 x77', 'x18 x78', 'x19^2', 'x19 x20', 'x19 x21', 'x19 x22', 'x19 x23', 'x19 x24', 'x19 x25', 'x19 x26', 'x19 x27', 'x19 x28', 'x19 x29', 'x19 x30', 'x19 x31', 'x19 x32', 'x19 x33', 'x19 x34', 'x19 x35', 'x19 x36', 'x19 x37', 'x19 x38', 'x19 x39', 'x19 x40', 'x19 x41', 'x19 x42', 'x19 x43', 'x19 x44', 'x19 x45', 'x19 x46', 'x19 x47', 'x19 x48', 'x19 x49', 'x19 x50', 'x19 x51', 'x19 x52', 'x19 x53', 'x19 x54', 'x19 x55', 'x19 x56', 'x19 x57', 'x19 x58', 'x19 x59', 'x19 x60', 'x19 x61', 'x19 x62', 'x19 x63', 'x19 x64', 'x19 x65', 'x19 x66', 'x19 x67', 'x19 x68', 'x19 x69', 'x19 x70', 'x19 x71', 'x19 x72', 'x19 x73', 'x19 x74', 'x19 x75', 'x19 x76', 'x19 x77', 'x19 x78', 'x20^2', 'x20 x21', 'x20 x22', 'x20 x23', 'x20 x24', 'x20 x25', 'x20 x26', 'x20 x27', 'x20 x28', 'x20 x29', 'x20 x30', 'x20 x31', 'x20 x32', 'x20 x33', 'x20 x34', 'x20 x35', 'x20 x36', 'x20 x37', 'x20 x38', 'x20 x39', 'x20 x40', 'x20 x41', 'x20 x42', 'x20 x43', 'x20 x44', 'x20 x45', 'x20 x46', 'x20 x47', 'x20 x48', 'x20 x49', 'x20 x50', 'x20 x51', 'x20 x52', 'x20 x53', 'x20 x54', 'x20 x55', 'x20 x56', 'x20 x57', 'x20 x58', 'x20 x59', 'x20 x60', 'x20 x61', 'x20 x62', 'x20 x63', 'x20 x64', 'x20 x65', 'x20 x66', 'x20 x67', 'x20 x68', 'x20 x69', 'x20 x70', 'x20 x71', 'x20 x72', 'x20 x73', 'x20 x74', 'x20 x75', 'x20 x76', 'x20 x77', 'x20 x78', 'x21^2', 'x21 x22', 'x21 x23', 'x21 x24', 'x21 x25', 'x21 x26', 'x21 x27', 'x21 x28', 'x21 x29', 'x21 x30', 'x21 x31', 'x21 x32', 'x21 x33', 'x21 x34', 'x21 x35', 'x21 x36', 'x21 x37', 'x21 x38', 'x21 x39', 'x21 x40', 'x21 x41', 'x21 x42', 'x21 x43', 'x21 x44', 'x21 x45', 'x21 x46', 'x21 x47', 'x21 x48', 'x21 x49', 'x21 x50', 'x21 x51', 'x21 x52', 'x21 x53', 'x21 x54', 'x21 x55', 'x21 x56', 'x21 x57', 'x21 x58', 'x21 x59', 'x21 x60', 'x21 x61', 'x21 x62', 'x21 x63', 'x21 x64', 'x21 x65', 'x21 x66', 'x21 x67', 'x21 x68', 'x21 x69', 'x21 x70', 'x21 x71', 'x21 x72', 'x21 x73', 'x21 x74', 'x21 x75', 'x21 x76', 'x21 x77', 'x21 x78', 'x22^2', 'x22 x23', 'x22 x24', 'x22 x25', 'x22 x26', 'x22 x27', 'x22 x28', 'x22 x29', 'x22 x30', 'x22 x31', 'x22 x32', 'x22 x33', 'x22 x34', 'x22 x35', 'x22 x36', 'x22 x37', 'x22 x38', 'x22 x39', 'x22 x40', 'x22 x41', 'x22 x42', 'x22 x43', 'x22 x44', 'x22 x45', 'x22 x46', 'x22 x47', 'x22 x48', 'x22 x49', 'x22 x50', 'x22 x51', 'x22 x52', 'x22 x53', 'x22 x54', 'x22 x55', 'x22 x56', 'x22 x57', 'x22 x58', 'x22 x59', 'x22 x60', 'x22 x61', 'x22 x62', 'x22 x63', 'x22 x64', 'x22 x65', 'x22 x66', 'x22 x67', 'x22 x68', 'x22 x69', 'x22 x70', 'x22 x71', 'x22 x72', 'x22 x73', 'x22 x74', 'x22 x75', 'x22 x76', 'x22 x77', 'x22 x78', 'x23^2', 'x23 x24', 'x23 x25', 'x23 x26', 'x23 x27', 'x23 x28', 'x23 x29', 'x23 x30', 'x23 x31', 'x23 x32', 'x23 x33', 'x23 x34', 'x23 x35', 'x23 x36', 'x23 x37', 'x23 x38', 'x23 x39', 'x23 x40', 'x23 x41', 'x23 x42', 'x23 x43', 'x23 x44', 'x23 x45', 'x23 x46', 'x23 x47', 'x23 x48', 'x23 x49', 'x23 x50', 'x23 x51', 'x23 x52', 'x23 x53', 'x23 x54', 'x23 x55', 'x23 x56', 'x23 x57', 'x23 x58', 'x23 x59', 'x23 x60', 'x23 x61', 'x23 x62', 'x23 x63', 'x23 x64', 'x23 x65', 'x23 x66', 'x23 x67', 'x23 x68', 'x23 x69', 'x23 x70', 'x23 x71', 'x23 x72', 'x23 x73', 'x23 x74', 'x23 x75', 'x23 x76', 'x23 x77', 'x23 x78', 'x24^2', 'x24 x25', 'x24 x26', 'x24 x27', 'x24 x28', 'x24 x29', 'x24 x30', 'x24 x31', 'x24 x32', 'x24 x33', 'x24 x34', 'x24 x35', 'x24 x36', 'x24 x37', 'x24 x38', 'x24 x39', 'x24 x40', 'x24 x41', 'x24 x42', 'x24 x43', 'x24 x44', 'x24 x45', 'x24 x46', 'x24 x47', 'x24 x48', 'x24 x49', 'x24 x50', 'x24 x51', 'x24 x52', 'x24 x53', 'x24 x54', 'x24 x55', 'x24 x56', 'x24 x57', 'x24 x58', 'x24 x59', 'x24 x60', 'x24 x61', 'x24 x62', 'x24 x63', 'x24 x64', 'x24 x65', 'x24 x66', 'x24 x67', 'x24 x68', 'x24 x69', 'x24 x70', 'x24 x71', 'x24 x72', 'x24 x73', 'x24 x74', 'x24 x75', 'x24 x76', 'x24 x77', 'x24 x78', 'x25^2', 'x25 x26', 'x25 x27', 'x25 x28', 'x25 x29', 'x25 x30', 'x25 x31', 'x25 x32', 'x25 x33', 'x25 x34', 'x25 x35', 'x25 x36', 'x25 x37', 'x25 x38', 'x25 x39', 'x25 x40', 'x25 x41', 'x25 x42', 'x25 x43', 'x25 x44', 'x25 x45', 'x25 x46', 'x25 x47', 'x25 x48', 'x25 x49', 'x25 x50', 'x25 x51', 'x25 x52', 'x25 x53', 'x25 x54', 'x25 x55', 'x25 x56', 'x25 x57', 'x25 x58', 'x25 x59', 'x25 x60', 'x25 x61', 'x25 x62', 'x25 x63', 'x25 x64', 'x25 x65', 'x25 x66', 'x25 x67', 'x25 x68', 'x25 x69', 'x25 x70', 'x25 x71', 'x25 x72', 'x25 x73', 'x25 x74', 'x25 x75', 'x25 x76', 'x25 x77', 'x25 x78', 'x26^2', 'x26 x27', 'x26 x28', 'x26 x29', 'x26 x30', 'x26 x31', 'x26 x32', 'x26 x33', 'x26 x34', 'x26 x35', 'x26 x36', 'x26 x37', 'x26 x38', 'x26 x39', 'x26 x40', 'x26 x41', 'x26 x42', 'x26 x43', 'x26 x44', 'x26 x45', 'x26 x46', 'x26 x47', 'x26 x48', 'x26 x49', 'x26 x50', 'x26 x51', 'x26 x52', 'x26 x53', 'x26 x54', 'x26 x55', 'x26 x56', 'x26 x57', 'x26 x58', 'x26 x59', 'x26 x60', 'x26 x61', 'x26 x62', 'x26 x63', 'x26 x64', 'x26 x65', 'x26 x66', 'x26 x67', 'x26 x68', 'x26 x69', 'x26 x70', 'x26 x71', 'x26 x72', 'x26 x73', 'x26 x74', 'x26 x75', 'x26 x76', 'x26 x77', 'x26 x78', 'x27^2', 'x27 x28', 'x27 x29', 'x27 x30', 'x27 x31', 'x27 x32', 'x27 x33', 'x27 x34', 'x27 x35', 'x27 x36', 'x27 x37', 'x27 x38', 'x27 x39', 'x27 x40', 'x27 x41', 'x27 x42', 'x27 x43', 'x27 x44', 'x27 x45', 'x27 x46', 'x27 x47', 'x27 x48', 'x27 x49', 'x27 x50', 'x27 x51', 'x27 x52', 'x27 x53', 'x27 x54', 'x27 x55', 'x27 x56', 'x27 x57', 'x27 x58', 'x27 x59', 'x27 x60', 'x27 x61', 'x27 x62', 'x27 x63', 'x27 x64', 'x27 x65', 'x27 x66', 'x27 x67', 'x27 x68', 'x27 x69', 'x27 x70', 'x27 x71', 'x27 x72', 'x27 x73', 'x27 x74', 'x27 x75', 'x27 x76', 'x27 x77', 'x27 x78', 'x28^2', 'x28 x29', 'x28 x30', 'x28 x31', 'x28 x32', 'x28 x33', 'x28 x34', 'x28 x35', 'x28 x36', 'x28 x37', 'x28 x38', 'x28 x39', 'x28 x40', 'x28 x41', 'x28 x42', 'x28 x43', 'x28 x44', 'x28 x45', 'x28 x46', 'x28 x47', 'x28 x48', 'x28 x49', 'x28 x50', 'x28 x51', 'x28 x52', 'x28 x53', 'x28 x54', 'x28 x55', 'x28 x56', 'x28 x57', 'x28 x58', 'x28 x59', 'x28 x60', 'x28 x61', 'x28 x62', 'x28 x63', 'x28 x64', 'x28 x65', 'x28 x66', 'x28 x67', 'x28 x68', 'x28 x69', 'x28 x70', 'x28 x71', 'x28 x72', 'x28 x73', 'x28 x74', 'x28 x75', 'x28 x76', 'x28 x77', 'x28 x78', 'x29^2', 'x29 x30', 'x29 x31', 'x29 x32', 'x29 x33', 'x29 x34', 'x29 x35', 'x29 x36', 'x29 x37', 'x29 x38', 'x29 x39', 'x29 x40', 'x29 x41', 'x29 x42', 'x29 x43', 'x29 x44', 'x29 x45', 'x29 x46', 'x29 x47', 'x29 x48', 'x29 x49', 'x29 x50', 'x29 x51', 'x29 x52', 'x29 x53', 'x29 x54', 'x29 x55', 'x29 x56', 'x29 x57', 'x29 x58', 'x29 x59', 'x29 x60', 'x29 x61', 'x29 x62', 'x29 x63', 'x29 x64', 'x29 x65', 'x29 x66', 'x29 x67', 'x29 x68', 'x29 x69', 'x29 x70', 'x29 x71', 'x29 x72', 'x29 x73', 'x29 x74', 'x29 x75', 'x29 x76', 'x29 x77', 'x29 x78', 'x30^2', 'x30 x31', 'x30 x32', 'x30 x33', 'x30 x34', 'x30 x35', 'x30 x36', 'x30 x37', 'x30 x38', 'x30 x39', 'x30 x40', 'x30 x41', 'x30 x42', 'x30 x43', 'x30 x44', 'x30 x45', 'x30 x46', 'x30 x47', 'x30 x48', 'x30 x49', 'x30 x50', 'x30 x51', 'x30 x52', 'x30 x53', 'x30 x54', 'x30 x55', 'x30 x56', 'x30 x57', 'x30 x58', 'x30 x59', 'x30 x60', 'x30 x61', 'x30 x62', 'x30 x63', 'x30 x64', 'x30 x65', 'x30 x66', 'x30 x67', 'x30 x68', 'x30 x69', 'x30 x70', 'x30 x71', 'x30 x72', 'x30 x73', 'x30 x74', 'x30 x75', 'x30 x76', 'x30 x77', 'x30 x78', 'x31^2', 'x31 x32', 'x31 x33', 'x31 x34', 'x31 x35', 'x31 x36', 'x31 x37', 'x31 x38', 'x31 x39', 'x31 x40', 'x31 x41', 'x31 x42', 'x31 x43', 'x31 x44', 'x31 x45', 'x31 x46', 'x31 x47', 'x31 x48', 'x31 x49', 'x31 x50', 'x31 x51', 'x31 x52', 'x31 x53', 'x31 x54', 'x31 x55', 'x31 x56', 'x31 x57', 'x31 x58', 'x31 x59', 'x31 x60', 'x31 x61', 'x31 x62', 'x31 x63', 'x31 x64', 'x31 x65', 'x31 x66', 'x31 x67', 'x31 x68', 'x31 x69', 'x31 x70', 'x31 x71', 'x31 x72', 'x31 x73', 'x31 x74', 'x31 x75', 'x31 x76', 'x31 x77', 'x31 x78', 'x32^2', 'x32 x33', 'x32 x34', 'x32 x35', 'x32 x36', 'x32 x37', 'x32 x38', 'x32 x39', 'x32 x40', 'x32 x41', 'x32 x42', 'x32 x43', 'x32 x44', 'x32 x45', 'x32 x46', 'x32 x47', 'x32 x48', 'x32 x49', 'x32 x50', 'x32 x51', 'x32 x52', 'x32 x53', 'x32 x54', 'x32 x55', 'x32 x56', 'x32 x57', 'x32 x58', 'x32 x59', 'x32 x60', 'x32 x61', 'x32 x62', 'x32 x63', 'x32 x64', 'x32 x65', 'x32 x66', 'x32 x67', 'x32 x68', 'x32 x69', 'x32 x70', 'x32 x71', 'x32 x72', 'x32 x73', 'x32 x74', 'x32 x75', 'x32 x76', 'x32 x77', 'x32 x78', 'x33^2', 'x33 x34', 'x33 x35', 'x33 x36', 'x33 x37', 'x33 x38', 'x33 x39', 'x33 x40', 'x33 x41', 'x33 x42', 'x33 x43', 'x33 x44', 'x33 x45', 'x33 x46', 'x33 x47', 'x33 x48', 'x33 x49', 'x33 x50', 'x33 x51', 'x33 x52', 'x33 x53', 'x33 x54', 'x33 x55', 'x33 x56', 'x33 x57', 'x33 x58', 'x33 x59', 'x33 x60', 'x33 x61', 'x33 x62', 'x33 x63', 'x33 x64', 'x33 x65', 'x33 x66', 'x33 x67', 'x33 x68', 'x33 x69', 'x33 x70', 'x33 x71', 'x33 x72', 'x33 x73', 'x33 x74', 'x33 x75', 'x33 x76', 'x33 x77', 'x33 x78', 'x34^2', 'x34 x35', 'x34 x36', 'x34 x37', 'x34 x38', 'x34 x39', 'x34 x40', 'x34 x41', 'x34 x42', 'x34 x43', 'x34 x44', 'x34 x45', 'x34 x46', 'x34 x47', 'x34 x48', 'x34 x49', 'x34 x50', 'x34 x51', 'x34 x52', 'x34 x53', 'x34 x54', 'x34 x55', 'x34 x56', 'x34 x57', 'x34 x58', 'x34 x59', 'x34 x60', 'x34 x61', 'x34 x62', 'x34 x63', 'x34 x64', 'x34 x65', 'x34 x66', 'x34 x67', 'x34 x68', 'x34 x69', 'x34 x70', 'x34 x71', 'x34 x72', 'x34 x73', 'x34 x74', 'x34 x75', 'x34 x76', 'x34 x77', 'x34 x78', 'x35^2', 'x35 x36', 'x35 x37', 'x35 x38', 'x35 x39', 'x35 x40', 'x35 x41', 'x35 x42', 'x35 x43', 'x35 x44', 'x35 x45', 'x35 x46', 'x35 x47', 'x35 x48', 'x35 x49', 'x35 x50', 'x35 x51', 'x35 x52', 'x35 x53', 'x35 x54', 'x35 x55', 'x35 x56', 'x35 x57', 'x35 x58', 'x35 x59', 'x35 x60', 'x35 x61', 'x35 x62', 'x35 x63', 'x35 x64', 'x35 x65', 'x35 x66', 'x35 x67', 'x35 x68', 'x35 x69', 'x35 x70', 'x35 x71', 'x35 x72', 'x35 x73', 'x35 x74', 'x35 x75', 'x35 x76', 'x35 x77', 'x35 x78', 'x36^2', 'x36 x37', 'x36 x38', 'x36 x39', 'x36 x40', 'x36 x41', 'x36 x42', 'x36 x43', 'x36 x44', 'x36 x45', 'x36 x46', 'x36 x47', 'x36 x48', 'x36 x49', 'x36 x50', 'x36 x51', 'x36 x52', 'x36 x53', 'x36 x54', 'x36 x55', 'x36 x56', 'x36 x57', 'x36 x58', 'x36 x59', 'x36 x60', 'x36 x61', 'x36 x62', 'x36 x63', 'x36 x64', 'x36 x65', 'x36 x66', 'x36 x67', 'x36 x68', 'x36 x69', 'x36 x70', 'x36 x71', 'x36 x72', 'x36 x73', 'x36 x74', 'x36 x75', 'x36 x76', 'x36 x77', 'x36 x78', 'x37^2', 'x37 x38', 'x37 x39', 'x37 x40', 'x37 x41', 'x37 x42', 'x37 x43', 'x37 x44', 'x37 x45', 'x37 x46', 'x37 x47', 'x37 x48', 'x37 x49', 'x37 x50', 'x37 x51', 'x37 x52', 'x37 x53', 'x37 x54', 'x37 x55', 'x37 x56', 'x37 x57', 'x37 x58', 'x37 x59', 'x37 x60', 'x37 x61', 'x37 x62', 'x37 x63', 'x37 x64', 'x37 x65', 'x37 x66', 'x37 x67', 'x37 x68', 'x37 x69', 'x37 x70', 'x37 x71', 'x37 x72', 'x37 x73', 'x37 x74', 'x37 x75', 'x37 x76', 'x37 x77', 'x37 x78', 'x38^2', 'x38 x39', 'x38 x40', 'x38 x41', 'x38 x42', 'x38 x43', 'x38 x44', 'x38 x45', 'x38 x46', 'x38 x47', 'x38 x48', 'x38 x49', 'x38 x50', 'x38 x51', 'x38 x52', 'x38 x53', 'x38 x54', 'x38 x55', 'x38 x56', 'x38 x57', 'x38 x58', 'x38 x59', 'x38 x60', 'x38 x61', 'x38 x62', 'x38 x63', 'x38 x64', 'x38 x65', 'x38 x66', 'x38 x67', 'x38 x68', 'x38 x69', 'x38 x70', 'x38 x71', 'x38 x72', 'x38 x73', 'x38 x74', 'x38 x75', 'x38 x76', 'x38 x77', 'x38 x78', 'x39^2', 'x39 x40', 'x39 x41', 'x39 x42', 'x39 x43', 'x39 x44', 'x39 x45', 'x39 x46', 'x39 x47', 'x39 x48', 'x39 x49', 'x39 x50', 'x39 x51', 'x39 x52', 'x39 x53', 'x39 x54', 'x39 x55', 'x39 x56', 'x39 x57', 'x39 x58', 'x39 x59', 'x39 x60', 'x39 x61', 'x39 x62', 'x39 x63', 'x39 x64', 'x39 x65', 'x39 x66', 'x39 x67', 'x39 x68', 'x39 x69', 'x39 x70', 'x39 x71', 'x39 x72', 'x39 x73', 'x39 x74', 'x39 x75', 'x39 x76', 'x39 x77', 'x39 x78', 'x40^2', 'x40 x41', 'x40 x42', 'x40 x43', 'x40 x44', 'x40 x45', 'x40 x46', 'x40 x47', 'x40 x48', 'x40 x49', 'x40 x50', 'x40 x51', 'x40 x52', 'x40 x53', 'x40 x54', 'x40 x55', 'x40 x56', 'x40 x57', 'x40 x58', 'x40 x59', 'x40 x60', 'x40 x61', 'x40 x62', 'x40 x63', 'x40 x64', 'x40 x65', 'x40 x66', 'x40 x67', 'x40 x68', 'x40 x69', 'x40 x70', 'x40 x71', 'x40 x72', 'x40 x73', 'x40 x74', 'x40 x75', 'x40 x76', 'x40 x77', 'x40 x78', 'x41^2', 'x41 x42', 'x41 x43', 'x41 x44', 'x41 x45', 'x41 x46', 'x41 x47', 'x41 x48', 'x41 x49', 'x41 x50', 'x41 x51', 'x41 x52', 'x41 x53', 'x41 x54', 'x41 x55', 'x41 x56', 'x41 x57', 'x41 x58', 'x41 x59', 'x41 x60', 'x41 x61', 'x41 x62', 'x41 x63', 'x41 x64', 'x41 x65', 'x41 x66', 'x41 x67', 'x41 x68', 'x41 x69', 'x41 x70', 'x41 x71', 'x41 x72', 'x41 x73', 'x41 x74', 'x41 x75', 'x41 x76', 'x41 x77', 'x41 x78', 'x42^2', 'x42 x43', 'x42 x44', 'x42 x45', 'x42 x46', 'x42 x47', 'x42 x48', 'x42 x49', 'x42 x50', 'x42 x51', 'x42 x52', 'x42 x53', 'x42 x54', 'x42 x55', 'x42 x56', 'x42 x57', 'x42 x58', 'x42 x59', 'x42 x60', 'x42 x61', 'x42 x62', 'x42 x63', 'x42 x64', 'x42 x65', 'x42 x66', 'x42 x67', 'x42 x68', 'x42 x69', 'x42 x70', 'x42 x71', 'x42 x72', 'x42 x73', 'x42 x74', 'x42 x75', 'x42 x76', 'x42 x77', 'x42 x78', 'x43^2', 'x43 x44', 'x43 x45', 'x43 x46', 'x43 x47', 'x43 x48', 'x43 x49', 'x43 x50', 'x43 x51', 'x43 x52', 'x43 x53', 'x43 x54', 'x43 x55', 'x43 x56', 'x43 x57', 'x43 x58', 'x43 x59', 'x43 x60', 'x43 x61', 'x43 x62', 'x43 x63', 'x43 x64', 'x43 x65', 'x43 x66', 'x43 x67', 'x43 x68', 'x43 x69', 'x43 x70', 'x43 x71', 'x43 x72', 'x43 x73', 'x43 x74', 'x43 x75', 'x43 x76', 'x43 x77', 'x43 x78', 'x44^2', 'x44 x45', 'x44 x46', 'x44 x47', 'x44 x48', 'x44 x49', 'x44 x50', 'x44 x51', 'x44 x52', 'x44 x53', 'x44 x54', 'x44 x55', 'x44 x56', 'x44 x57', 'x44 x58', 'x44 x59', 'x44 x60', 'x44 x61', 'x44 x62', 'x44 x63', 'x44 x64', 'x44 x65', 'x44 x66', 'x44 x67', 'x44 x68', 'x44 x69', 'x44 x70', 'x44 x71', 'x44 x72', 'x44 x73', 'x44 x74', 'x44 x75', 'x44 x76', 'x44 x77', 'x44 x78', 'x45^2', 'x45 x46', 'x45 x47', 'x45 x48', 'x45 x49', 'x45 x50', 'x45 x51', 'x45 x52', 'x45 x53', 'x45 x54', 'x45 x55', 'x45 x56', 'x45 x57', 'x45 x58', 'x45 x59', 'x45 x60', 'x45 x61', 'x45 x62', 'x45 x63', 'x45 x64', 'x45 x65', 'x45 x66', 'x45 x67', 'x45 x68', 'x45 x69', 'x45 x70', 'x45 x71', 'x45 x72', 'x45 x73', 'x45 x74', 'x45 x75', 'x45 x76', 'x45 x77', 'x45 x78', 'x46^2', 'x46 x47', 'x46 x48', 'x46 x49', 'x46 x50', 'x46 x51', 'x46 x52', 'x46 x53', 'x46 x54', 'x46 x55', 'x46 x56', 'x46 x57', 'x46 x58', 'x46 x59', 'x46 x60', 'x46 x61', 'x46 x62', 'x46 x63', 'x46 x64', 'x46 x65', 'x46 x66', 'x46 x67', 'x46 x68', 'x46 x69', 'x46 x70', 'x46 x71', 'x46 x72', 'x46 x73', 'x46 x74', 'x46 x75', 'x46 x76', 'x46 x77', 'x46 x78', 'x47^2', 'x47 x48', 'x47 x49', 'x47 x50', 'x47 x51', 'x47 x52', 'x47 x53', 'x47 x54', 'x47 x55', 'x47 x56', 'x47 x57', 'x47 x58', 'x47 x59', 'x47 x60', 'x47 x61', 'x47 x62', 'x47 x63', 'x47 x64', 'x47 x65', 'x47 x66', 'x47 x67', 'x47 x68', 'x47 x69', 'x47 x70', 'x47 x71', 'x47 x72', 'x47 x73', 'x47 x74', 'x47 x75', 'x47 x76', 'x47 x77', 'x47 x78', 'x48^2', 'x48 x49', 'x48 x50', 'x48 x51', 'x48 x52', 'x48 x53', 'x48 x54', 'x48 x55', 'x48 x56', 'x48 x57', 'x48 x58', 'x48 x59', 'x48 x60', 'x48 x61', 'x48 x62', 'x48 x63', 'x48 x64', 'x48 x65', 'x48 x66', 'x48 x67', 'x48 x68', 'x48 x69', 'x48 x70', 'x48 x71', 'x48 x72', 'x48 x73', 'x48 x74', 'x48 x75', 'x48 x76', 'x48 x77', 'x48 x78', 'x49^2', 'x49 x50', 'x49 x51', 'x49 x52', 'x49 x53', 'x49 x54', 'x49 x55', 'x49 x56', 'x49 x57', 'x49 x58', 'x49 x59', 'x49 x60', 'x49 x61', 'x49 x62', 'x49 x63', 'x49 x64', 'x49 x65', 'x49 x66', 'x49 x67', 'x49 x68', 'x49 x69', 'x49 x70', 'x49 x71', 'x49 x72', 'x49 x73', 'x49 x74', 'x49 x75', 'x49 x76', 'x49 x77', 'x49 x78', 'x50^2', 'x50 x51', 'x50 x52', 'x50 x53', 'x50 x54', 'x50 x55', 'x50 x56', 'x50 x57', 'x50 x58', 'x50 x59', 'x50 x60', 'x50 x61', 'x50 x62', 'x50 x63', 'x50 x64', 'x50 x65', 'x50 x66', 'x50 x67', 'x50 x68', 'x50 x69', 'x50 x70', 'x50 x71', 'x50 x72', 'x50 x73', 'x50 x74', 'x50 x75', 'x50 x76', 'x50 x77', 'x50 x78', 'x51^2', 'x51 x52', 'x51 x53', 'x51 x54', 'x51 x55', 'x51 x56', 'x51 x57', 'x51 x58', 'x51 x59', 'x51 x60', 'x51 x61', 'x51 x62', 'x51 x63', 'x51 x64', 'x51 x65', 'x51 x66', 'x51 x67', 'x51 x68', 'x51 x69', 'x51 x70', 'x51 x71', 'x51 x72', 'x51 x73', 'x51 x74', 'x51 x75', 'x51 x76', 'x51 x77', 'x51 x78', 'x52^2', 'x52 x53', 'x52 x54', 'x52 x55', 'x52 x56', 'x52 x57', 'x52 x58', 'x52 x59', 'x52 x60', 'x52 x61', 'x52 x62', 'x52 x63', 'x52 x64', 'x52 x65', 'x52 x66', 'x52 x67', 'x52 x68', 'x52 x69', 'x52 x70', 'x52 x71', 'x52 x72', 'x52 x73', 'x52 x74', 'x52 x75', 'x52 x76', 'x52 x77', 'x52 x78', 'x53^2', 'x53 x54', 'x53 x55', 'x53 x56', 'x53 x57', 'x53 x58', 'x53 x59', 'x53 x60', 'x53 x61', 'x53 x62', 'x53 x63', 'x53 x64', 'x53 x65', 'x53 x66', 'x53 x67', 'x53 x68', 'x53 x69', 'x53 x70', 'x53 x71', 'x53 x72', 'x53 x73', 'x53 x74', 'x53 x75', 'x53 x76', 'x53 x77', 'x53 x78', 'x54^2', 'x54 x55', 'x54 x56', 'x54 x57', 'x54 x58', 'x54 x59', 'x54 x60', 'x54 x61', 'x54 x62', 'x54 x63', 'x54 x64', 'x54 x65', 'x54 x66', 'x54 x67', 'x54 x68', 'x54 x69', 'x54 x70', 'x54 x71', 'x54 x72', 'x54 x73', 'x54 x74', 'x54 x75', 'x54 x76', 'x54 x77', 'x54 x78', 'x55^2', 'x55 x56', 'x55 x57', 'x55 x58', 'x55 x59', 'x55 x60', 'x55 x61', 'x55 x62', 'x55 x63', 'x55 x64', 'x55 x65', 'x55 x66', 'x55 x67', 'x55 x68', 'x55 x69', 'x55 x70', 'x55 x71', 'x55 x72', 'x55 x73', 'x55 x74', 'x55 x75', 'x55 x76', 'x55 x77', 'x55 x78', 'x56^2', 'x56 x57', 'x56 x58', 'x56 x59', 'x56 x60', 'x56 x61', 'x56 x62', 'x56 x63', 'x56 x64', 'x56 x65', 'x56 x66', 'x56 x67', 'x56 x68', 'x56 x69', 'x56 x70', 'x56 x71', 'x56 x72', 'x56 x73', 'x56 x74', 'x56 x75', 'x56 x76', 'x56 x77', 'x56 x78', 'x57^2', 'x57 x58', 'x57 x59', 'x57 x60', 'x57 x61', 'x57 x62', 'x57 x63', 'x57 x64', 'x57 x65', 'x57 x66', 'x57 x67', 'x57 x68', 'x57 x69', 'x57 x70', 'x57 x71', 'x57 x72', 'x57 x73', 'x57 x74', 'x57 x75', 'x57 x76', 'x57 x77', 'x57 x78', 'x58^2', 'x58 x59', 'x58 x60', 'x58 x61', 'x58 x62', 'x58 x63', 'x58 x64', 'x58 x65', 'x58 x66', 'x58 x67', 'x58 x68', 'x58 x69', 'x58 x70', 'x58 x71', 'x58 x72', 'x58 x73', 'x58 x74', 'x58 x75', 'x58 x76', 'x58 x77', 'x58 x78', 'x59^2', 'x59 x60', 'x59 x61', 'x59 x62', 'x59 x63', 'x59 x64', 'x59 x65', 'x59 x66', 'x59 x67', 'x59 x68', 'x59 x69', 'x59 x70', 'x59 x71', 'x59 x72', 'x59 x73', 'x59 x74', 'x59 x75', 'x59 x76', 'x59 x77', 'x59 x78', 'x60^2', 'x60 x61', 'x60 x62', 'x60 x63', 'x60 x64', 'x60 x65', 'x60 x66', 'x60 x67', 'x60 x68', 'x60 x69', 'x60 x70', 'x60 x71', 'x60 x72', 'x60 x73', 'x60 x74', 'x60 x75', 'x60 x76', 'x60 x77', 'x60 x78', 'x61^2', 'x61 x62', 'x61 x63', 'x61 x64', 'x61 x65', 'x61 x66', 'x61 x67', 'x61 x68', 'x61 x69', 'x61 x70', 'x61 x71', 'x61 x72', 'x61 x73', 'x61 x74', 'x61 x75', 'x61 x76', 'x61 x77', 'x61 x78', 'x62^2', 'x62 x63', 'x62 x64', 'x62 x65', 'x62 x66', 'x62 x67', 'x62 x68', 'x62 x69', 'x62 x70', 'x62 x71', 'x62 x72', 'x62 x73', 'x62 x74', 'x62 x75', 'x62 x76', 'x62 x77', 'x62 x78', 'x63^2', 'x63 x64', 'x63 x65', 'x63 x66', 'x63 x67', 'x63 x68', 'x63 x69', 'x63 x70', 'x63 x71', 'x63 x72', 'x63 x73', 'x63 x74', 'x63 x75', 'x63 x76', 'x63 x77', 'x63 x78', 'x64^2', 'x64 x65', 'x64 x66', 'x64 x67', 'x64 x68', 'x64 x69', 'x64 x70', 'x64 x71', 'x64 x72', 'x64 x73', 'x64 x74', 'x64 x75', 'x64 x76', 'x64 x77', 'x64 x78', 'x65^2', 'x65 x66', 'x65 x67', 'x65 x68', 'x65 x69', 'x65 x70', 'x65 x71', 'x65 x72', 'x65 x73', 'x65 x74', 'x65 x75', 'x65 x76', 'x65 x77', 'x65 x78', 'x66^2', 'x66 x67', 'x66 x68', 'x66 x69', 'x66 x70', 'x66 x71', 'x66 x72', 'x66 x73', 'x66 x74', 'x66 x75', 'x66 x76', 'x66 x77', 'x66 x78', 'x67^2', 'x67 x68', 'x67 x69', 'x67 x70', 'x67 x71', 'x67 x72', 'x67 x73', 'x67 x74', 'x67 x75', 'x67 x76', 'x67 x77', 'x67 x78', 'x68^2', 'x68 x69', 'x68 x70', 'x68 x71', 'x68 x72', 'x68 x73', 'x68 x74', 'x68 x75', 'x68 x76', 'x68 x77', 'x68 x78', 'x69^2', 'x69 x70', 'x69 x71', 'x69 x72', 'x69 x73', 'x69 x74', 'x69 x75', 'x69 x76', 'x69 x77', 'x69 x78', 'x70^2', 'x70 x71', 'x70 x72', 'x70 x73', 'x70 x74', 'x70 x75', 'x70 x76', 'x70 x77', 'x70 x78', 'x71^2', 'x71 x72', 'x71 x73', 'x71 x74', 'x71 x75', 'x71 x76', 'x71 x77', 'x71 x78', 'x72^2', 'x72 x73', 'x72 x74', 'x72 x75', 'x72 x76', 'x72 x77', 'x72 x78', 'x73^2', 'x73 x74', 'x73 x75', 'x73 x76', 'x73 x77', 'x73 x78', 'x74^2', 'x74 x75', 'x74 x76', 'x74 x77', 'x74 x78', 'x75^2', 'x75 x76', 'x75 x77', 'x75 x78', 'x76^2', 'x76 x77', 'x76 x78', 'x77^2', 'x77 x78', 'x78^2']\n"
          ]
        },
        {
          "name": "stderr",
          "output_type": "stream",
          "text": [
            "C:\\ProgramData\\Anaconda3\\lib\\site-packages\\sklearn\\utils\\deprecation.py:87: FutureWarning: Function get_feature_names is deprecated; get_feature_names is deprecated in 1.0 and will be removed in 1.2. Please use get_feature_names_out instead.\n",
            "  warnings.warn(msg, category=FutureWarning)\n"
          ]
        }
      ],
      "source": [
        "from sklearn.preprocessing import PolynomialFeatures\n",
        "poly = PolynomialFeatures(degree=2).fit(x_train)\n",
        "x_train_poly = poly.transform(x_train)\n",
        "x_test_poly = poly.transform(x_test)\n",
        "print(poly.get_feature_names())"
      ]
    },
    {
      "cell_type": "markdown",
      "id": "689a0beb",
      "metadata": {
        "id": "689a0beb"
      },
      "source": [
        "# logistic regression"
      ]
    },
    {
      "cell_type": "markdown",
      "source": [
        "I use the sklearn library to import the logistic regression function or model and create the model and fit the model using xtrain and ytrain \n",
        "Then i check the accuracy of the model and print the confusion matrix and classification report\n",
        "I repeat the same processes with 3 more algorithm namely support vector machine, decision tree and random forest"
      ],
      "metadata": {
        "id": "I8vi4vKI7rBv"
      },
      "id": "I8vi4vKI7rBv"
    },
    {
      "cell_type": "code",
      "execution_count": null,
      "id": "b7b1aaac",
      "metadata": {
        "scrolled": true,
        "id": "b7b1aaac",
        "outputId": "e2180a1a-bf69-4ed5-c5d7-a1598d3ab553"
      },
      "outputs": [
        {
          "name": "stdout",
          "output_type": "stream",
          "text": [
            "Accuracy of the model: 0.065\n",
            "[[0 1 2 ... 0 0 0]\n",
            " [3 1 0 ... 0 0 0]\n",
            " [0 0 5 ... 0 0 0]\n",
            " ...\n",
            " [3 0 0 ... 0 0 0]\n",
            " [0 0 1 ... 0 0 0]\n",
            " [2 0 0 ... 0 0 0]]\n",
            "              precision    recall  f1-score   support\n",
            "\n",
            "           1       0.00      0.00      0.00         8\n",
            "           2       0.09      0.07      0.08        14\n",
            "           3       0.18      0.62      0.28         8\n",
            "           4       0.00      0.00      0.00        10\n",
            "           5       0.04      0.14      0.07         7\n",
            "           6       0.33      0.08      0.12        13\n",
            "           7       0.00      0.00      0.00        14\n",
            "           8       0.09      0.43      0.14        14\n",
            "           9       1.00      0.20      0.33         5\n",
            "          10       0.00      0.00      0.00         4\n",
            "          11       0.09      0.10      0.10        10\n",
            "          12       0.00      0.00      0.00        13\n",
            "          13       0.12      0.12      0.12        16\n",
            "          14       0.06      0.08      0.07        13\n",
            "          15       0.00      0.00      0.00        10\n",
            "          16       0.00      0.00      0.00         6\n",
            "          17       0.00      0.00      0.00        10\n",
            "          18       0.00      0.00      0.00        12\n",
            "          19       0.00      0.00      0.00        15\n",
            "          20       0.00      0.00      0.00        14\n",
            "          21       0.00      0.00      0.00        18\n",
            "          22       0.00      0.00      0.00        13\n",
            "          23       0.00      0.00      0.00         9\n",
            "          24       0.00      0.00      0.00        11\n",
            "          25       0.09      0.25      0.13         8\n",
            "          26       0.00      0.00      0.00        12\n",
            "          27       0.05      0.08      0.06        13\n",
            "          28       0.00      0.00      0.00        13\n",
            "          29       0.00      0.00      0.00        10\n",
            "          30       0.00      0.00      0.00         2\n",
            "          31       0.04      0.09      0.06        11\n",
            "          32       0.00      0.00      0.00        13\n",
            "          34       0.00      0.00      0.00        11\n",
            "          35       0.00      0.00      0.00        10\n",
            "          38       0.00      0.00      0.00         2\n",
            "          39       0.08      0.40      0.13        10\n",
            "          40       0.00      0.00      0.00        11\n",
            "          41       0.00      0.00      0.00        12\n",
            "          43       0.00      0.00      0.00         1\n",
            "          45       0.00      0.00      0.00         8\n",
            "\n",
            "    accuracy                           0.07       414\n",
            "   macro avg       0.06      0.07      0.04       414\n",
            "weighted avg       0.05      0.07      0.04       414\n",
            "\n"
          ]
        },
        {
          "name": "stderr",
          "output_type": "stream",
          "text": [
            "C:\\ProgramData\\Anaconda3\\lib\\site-packages\\sklearn\\linear_model\\_logistic.py:444: ConvergenceWarning: lbfgs failed to converge (status=1):\n",
            "STOP: TOTAL NO. of ITERATIONS REACHED LIMIT.\n",
            "\n",
            "Increase the number of iterations (max_iter) or scale the data as shown in:\n",
            "    https://scikit-learn.org/stable/modules/preprocessing.html\n",
            "Please also refer to the documentation for alternative solver options:\n",
            "    https://scikit-learn.org/stable/modules/linear_model.html#logistic-regression\n",
            "  n_iter_i = _check_optimize_result(\n",
            "C:\\ProgramData\\Anaconda3\\lib\\site-packages\\sklearn\\metrics\\_classification.py:1334: UndefinedMetricWarning: Precision and F-score are ill-defined and being set to 0.0 in labels with no predicted samples. Use `zero_division` parameter to control this behavior.\n",
            "  _warn_prf(average, modifier, msg_start, len(result))\n",
            "C:\\ProgramData\\Anaconda3\\lib\\site-packages\\sklearn\\metrics\\_classification.py:1334: UndefinedMetricWarning: Precision and F-score are ill-defined and being set to 0.0 in labels with no predicted samples. Use `zero_division` parameter to control this behavior.\n",
            "  _warn_prf(average, modifier, msg_start, len(result))\n",
            "C:\\ProgramData\\Anaconda3\\lib\\site-packages\\sklearn\\metrics\\_classification.py:1334: UndefinedMetricWarning: Precision and F-score are ill-defined and being set to 0.0 in labels with no predicted samples. Use `zero_division` parameter to control this behavior.\n",
            "  _warn_prf(average, modifier, msg_start, len(result))\n"
          ]
        }
      ],
      "source": [
        "from sklearn.linear_model import LogisticRegression\n",
        "from sklearn.metrics import confusion_matrix, classification_report\n",
        "logreg = LogisticRegression()\n",
        "logreg.fit(x_train, y_train)\n",
        "y_pred = logreg.predict(x_test)\n",
        "print('Accuracy of the model: {:.3f}'.format(logreg.score(x_test, y_test)))\n",
        "print(confusion_matrix(y_test,y_pred))\n",
        "print(classification_report(y_test, y_pred))"
      ]
    },
    {
      "cell_type": "markdown",
      "id": "b82c9ccd",
      "metadata": {
        "id": "b82c9ccd"
      },
      "source": [
        "# support vector machine"
      ]
    },
    {
      "cell_type": "code",
      "execution_count": null,
      "id": "3ff5b5c9",
      "metadata": {
        "scrolled": true,
        "id": "3ff5b5c9",
        "outputId": "2eab8ded-6431-4f14-9a35-5c26a700434b"
      },
      "outputs": [
        {
          "name": "stdout",
          "output_type": "stream",
          "text": [
            "Model accuracy : 0.03140\n",
            "[[0 0 3 ... 2 0 1]\n",
            " [2 0 1 ... 1 0 0]\n",
            " [0 0 3 ... 0 0 0]\n",
            " ...\n",
            " [2 0 2 ... 0 0 2]\n",
            " [0 0 1 ... 0 0 0]\n",
            " [4 0 1 ... 0 0 0]]\n",
            "              precision    recall  f1-score   support\n",
            "\n",
            "           1       0.00      0.00      0.00         8\n",
            "           2       0.00      0.00      0.00        14\n",
            "           3       0.04      0.38      0.08         8\n",
            "           4       0.00      0.00      0.00        10\n",
            "           5       0.00      0.00      0.00         7\n",
            "           6       0.00      0.00      0.00        13\n",
            "           7       0.00      0.00      0.00        14\n",
            "           8       0.00      0.00      0.00        14\n",
            "           9       0.00      0.00      0.00         5\n",
            "          10       0.00      0.00      0.00         4\n",
            "          11       0.00      0.00      0.00        10\n",
            "          12       0.00      0.00      0.00        13\n",
            "          13       0.00      0.00      0.00        16\n",
            "          14       0.00      0.00      0.00        13\n",
            "          15       0.00      0.00      0.00        10\n",
            "          16       0.00      0.00      0.00         6\n",
            "          17       0.00      0.00      0.00        10\n",
            "          18       0.00      0.00      0.00        12\n",
            "          19       0.00      0.00      0.00        15\n",
            "          20       0.25      0.07      0.11        14\n",
            "          21       0.00      0.00      0.00        18\n",
            "          22       0.00      0.00      0.00        13\n",
            "          23       0.00      0.00      0.00         9\n",
            "          24       0.00      0.00      0.00        11\n",
            "          25       0.00      0.00      0.00         8\n",
            "          26       0.09      0.17      0.11        12\n",
            "          27       0.03      0.08      0.04        13\n",
            "          28       0.00      0.00      0.00        13\n",
            "          29       0.00      0.00      0.00        10\n",
            "          30       0.00      0.00      0.00         2\n",
            "          31       0.11      0.18      0.14        11\n",
            "          32       0.00      0.00      0.00        13\n",
            "          34       0.02      0.09      0.03        11\n",
            "          35       0.00      0.00      0.00        10\n",
            "          38       0.00      0.00      0.00         2\n",
            "          39       0.19      0.30      0.23        10\n",
            "          40       0.00      0.00      0.00        11\n",
            "          41       0.00      0.00      0.00        12\n",
            "          43       0.00      0.00      0.00         1\n",
            "          45       0.00      0.00      0.00         8\n",
            "\n",
            "    accuracy                           0.03       414\n",
            "   macro avg       0.02      0.03      0.02       414\n",
            "weighted avg       0.02      0.03      0.02       414\n",
            "\n"
          ]
        },
        {
          "name": "stderr",
          "output_type": "stream",
          "text": [
            "C:\\ProgramData\\Anaconda3\\lib\\site-packages\\sklearn\\metrics\\_classification.py:1334: UndefinedMetricWarning: Precision and F-score are ill-defined and being set to 0.0 in labels with no predicted samples. Use `zero_division` parameter to control this behavior.\n",
            "  _warn_prf(average, modifier, msg_start, len(result))\n",
            "C:\\ProgramData\\Anaconda3\\lib\\site-packages\\sklearn\\metrics\\_classification.py:1334: UndefinedMetricWarning: Precision and F-score are ill-defined and being set to 0.0 in labels with no predicted samples. Use `zero_division` parameter to control this behavior.\n",
            "  _warn_prf(average, modifier, msg_start, len(result))\n",
            "C:\\ProgramData\\Anaconda3\\lib\\site-packages\\sklearn\\metrics\\_classification.py:1334: UndefinedMetricWarning: Precision and F-score are ill-defined and being set to 0.0 in labels with no predicted samples. Use `zero_division` parameter to control this behavior.\n",
            "  _warn_prf(average, modifier, msg_start, len(result))\n"
          ]
        }
      ],
      "source": [
        "from sklearn.svm import SVC\n",
        "from sklearn.metrics import confusion_matrix, classification_report\n",
        "from sklearn.metrics import accuracy_score\n",
        "svc=SVC() \n",
        "svc.fit(x_train,y_train)\n",
        "y_pred=svc.predict(x_test)\n",
        "print('Model accuracy : {0:0.5f}'. format(accuracy_score(y_test, y_pred)))\n",
        "print(confusion_matrix(y_test,y_pred))\n",
        "print(classification_report(y_test, y_pred))"
      ]
    },
    {
      "cell_type": "markdown",
      "id": "95272323",
      "metadata": {
        "id": "95272323"
      },
      "source": [
        "# decision tree"
      ]
    },
    {
      "cell_type": "code",
      "execution_count": null,
      "id": "574f1771",
      "metadata": {
        "scrolled": true,
        "id": "574f1771",
        "outputId": "9328f2ed-9729-426e-8b36-e9fa5cce155a"
      },
      "outputs": [
        {
          "name": "stdout",
          "output_type": "stream",
          "text": [
            "Model accuracy : 0.67874\n",
            "              precision    recall  f1-score   support\n",
            "\n",
            "           1       0.86      0.75      0.80         8\n",
            "           2       0.18      0.21      0.19        14\n",
            "           3       0.71      0.62      0.67         8\n",
            "           4       1.00      1.00      1.00        10\n",
            "           5       0.83      0.71      0.77         7\n",
            "           6       0.77      0.77      0.77        13\n",
            "           7       0.69      0.64      0.67        14\n",
            "           8       0.85      0.79      0.81        14\n",
            "           9       0.50      0.80      0.62         5\n",
            "          10       1.00      1.00      1.00         4\n",
            "          11       0.73      0.80      0.76        10\n",
            "          12       0.55      0.46      0.50        13\n",
            "          13       1.00      0.81      0.90        16\n",
            "          14       0.67      0.46      0.55        13\n",
            "          15       0.62      0.80      0.70        10\n",
            "          16       1.00      1.00      1.00         6\n",
            "          17       0.75      0.90      0.82        10\n",
            "          18       0.77      0.83      0.80        12\n",
            "          19       0.82      0.60      0.69        15\n",
            "          20       0.53      0.57      0.55        14\n",
            "          21       0.20      0.11      0.14        18\n",
            "          22       1.00      1.00      1.00        13\n",
            "          23       0.27      0.33      0.30         9\n",
            "          24       0.91      0.91      0.91        11\n",
            "          25       0.14      0.12      0.13         8\n",
            "          26       1.00      1.00      1.00        12\n",
            "          27       1.00      1.00      1.00        13\n",
            "          28       0.50      0.62      0.55        13\n",
            "          29       0.90      0.90      0.90        10\n",
            "          30       0.00      0.00      0.00         2\n",
            "          31       0.14      0.18      0.16        11\n",
            "          32       0.64      0.69      0.67        13\n",
            "          34       1.00      1.00      1.00        11\n",
            "          35       1.00      1.00      1.00        10\n",
            "          38       1.00      0.50      0.67         2\n",
            "          39       0.46      0.60      0.52        10\n",
            "          40       0.33      0.27      0.30        11\n",
            "          41       1.00      1.00      1.00        12\n",
            "          43       1.00      1.00      1.00         1\n",
            "          44       0.00      0.00      0.00         0\n",
            "          45       0.42      0.62      0.50         8\n",
            "\n",
            "    accuracy                           0.68       414\n",
            "   macro avg       0.68      0.67      0.67       414\n",
            "weighted avg       0.69      0.68      0.68       414\n",
            "\n"
          ]
        },
        {
          "name": "stderr",
          "output_type": "stream",
          "text": [
            "C:\\ProgramData\\Anaconda3\\lib\\site-packages\\sklearn\\metrics\\_classification.py:1334: UndefinedMetricWarning: Recall and F-score are ill-defined and being set to 0.0 in labels with no true samples. Use `zero_division` parameter to control this behavior.\n",
            "  _warn_prf(average, modifier, msg_start, len(result))\n",
            "C:\\ProgramData\\Anaconda3\\lib\\site-packages\\sklearn\\metrics\\_classification.py:1334: UndefinedMetricWarning: Recall and F-score are ill-defined and being set to 0.0 in labels with no true samples. Use `zero_division` parameter to control this behavior.\n",
            "  _warn_prf(average, modifier, msg_start, len(result))\n",
            "C:\\ProgramData\\Anaconda3\\lib\\site-packages\\sklearn\\metrics\\_classification.py:1334: UndefinedMetricWarning: Recall and F-score are ill-defined and being set to 0.0 in labels with no true samples. Use `zero_division` parameter to control this behavior.\n",
            "  _warn_prf(average, modifier, msg_start, len(result))\n"
          ]
        }
      ],
      "source": [
        "from sklearn.tree import DecisionTreeClassifier\n",
        "from sklearn.metrics import classification_report\n",
        "from sklearn.metrics import accuracy_score\n",
        "classifier=DecisionTreeClassifier()\n",
        "classifier.fit(x_train,y_train)\n",
        "y_pred=classifier.predict(x_test)\n",
        "print('Model accuracy : {0:0.5f}'. format(accuracy_score(y_test, y_pred)))\n",
        "print(classification_report(y_test,y_pred))"
      ]
    },
    {
      "cell_type": "markdown",
      "id": "95086d40",
      "metadata": {
        "id": "95086d40"
      },
      "source": [
        "# random forest"
      ]
    },
    {
      "cell_type": "code",
      "execution_count": null,
      "id": "91b8a4d6",
      "metadata": {
        "id": "91b8a4d6",
        "outputId": "a9adc99c-67bd-4b22-eda5-5af72c931099"
      },
      "outputs": [
        {
          "name": "stdout",
          "output_type": "stream",
          "text": [
            "Model accuracy : 0.35990\n",
            "[[1 1 1 ... 0 0 0]\n",
            " [2 1 0 ... 0 0 0]\n",
            " [0 1 4 ... 0 0 0]\n",
            " ...\n",
            " [1 0 0 ... 5 0 0]\n",
            " [0 0 0 ... 0 0 0]\n",
            " [0 0 0 ... 0 0 4]]\n",
            "              precision    recall  f1-score   support\n",
            "\n",
            "           1       0.05      0.12      0.07         8\n",
            "           2       0.08      0.07      0.07        14\n",
            "           3       0.25      0.50      0.33         8\n",
            "           4       0.53      1.00      0.69        10\n",
            "           5       0.33      0.43      0.38         7\n",
            "           6       0.18      0.23      0.20        13\n",
            "           7       0.53      0.64      0.58        14\n",
            "           8       0.43      0.21      0.29        14\n",
            "           9       0.33      0.20      0.25         5\n",
            "          10       0.36      1.00      0.53         4\n",
            "          11       0.27      0.30      0.29        10\n",
            "          12       0.38      0.38      0.38        13\n",
            "          13       0.67      0.50      0.57        16\n",
            "          14       0.39      0.54      0.45        13\n",
            "          15       0.38      0.60      0.46        10\n",
            "          16       0.38      0.50      0.43         6\n",
            "          17       0.60      0.30      0.40        10\n",
            "          18       0.27      0.33      0.30        12\n",
            "          19       0.50      0.33      0.40        15\n",
            "          20       0.32      0.50      0.39        14\n",
            "          21       0.11      0.06      0.07        18\n",
            "          22       0.20      0.08      0.11        13\n",
            "          23       0.29      0.44      0.35         9\n",
            "          24       0.67      0.55      0.60        11\n",
            "          25       0.00      0.00      0.00         8\n",
            "          26       0.62      0.42      0.50        12\n",
            "          27       0.50      0.46      0.48        13\n",
            "          28       0.55      0.46      0.50        13\n",
            "          29       0.56      0.50      0.53        10\n",
            "          30       0.00      0.00      0.00         2\n",
            "          31       0.08      0.09      0.08        11\n",
            "          32       0.17      0.08      0.11        13\n",
            "          34       0.62      0.45      0.53        11\n",
            "          35       0.67      0.20      0.31        10\n",
            "          38       1.00      0.50      0.67         2\n",
            "          39       0.57      0.40      0.47        10\n",
            "          40       0.33      0.18      0.24        11\n",
            "          41       0.71      0.42      0.53        12\n",
            "          43       0.00      0.00      0.00         1\n",
            "          45       0.33      0.50      0.40         8\n",
            "\n",
            "    accuracy                           0.36       414\n",
            "   macro avg       0.38      0.36      0.35       414\n",
            "weighted avg       0.39      0.36      0.35       414\n",
            "\n"
          ]
        },
        {
          "name": "stderr",
          "output_type": "stream",
          "text": [
            "C:\\ProgramData\\Anaconda3\\lib\\site-packages\\sklearn\\metrics\\_classification.py:1334: UndefinedMetricWarning: Precision and F-score are ill-defined and being set to 0.0 in labels with no predicted samples. Use `zero_division` parameter to control this behavior.\n",
            "  _warn_prf(average, modifier, msg_start, len(result))\n",
            "C:\\ProgramData\\Anaconda3\\lib\\site-packages\\sklearn\\metrics\\_classification.py:1334: UndefinedMetricWarning: Precision and F-score are ill-defined and being set to 0.0 in labels with no predicted samples. Use `zero_division` parameter to control this behavior.\n",
            "  _warn_prf(average, modifier, msg_start, len(result))\n",
            "C:\\ProgramData\\Anaconda3\\lib\\site-packages\\sklearn\\metrics\\_classification.py:1334: UndefinedMetricWarning: Precision and F-score are ill-defined and being set to 0.0 in labels with no predicted samples. Use `zero_division` parameter to control this behavior.\n",
            "  _warn_prf(average, modifier, msg_start, len(result))\n"
          ]
        }
      ],
      "source": [
        "from sklearn.ensemble import RandomForestClassifier\n",
        "from sklearn.metrics import confusion_matrix,classification_report\n",
        "from sklearn.metrics import accuracy_score\n",
        "classifier=RandomForestClassifier(n_estimators=10,criterion='entropy')\n",
        "classifier.fit(x_train,y_train)\n",
        "y_pred=classifier.predict(x_test)\n",
        "print('Model accuracy : {0:0.5f}'. format(accuracy_score(y_test, y_pred)))\n",
        "print(confusion_matrix(y_test,y_pred))\n",
        "print(classification_report(y_test,y_pred))"
      ]
    },
    {
      "cell_type": "markdown",
      "source": [
        "Now I use bagging and boosting ensemble meathods to strengthen the classiffier and increase the accuracy"
      ],
      "metadata": {
        "id": "TeVf8AfS78wK"
      },
      "id": "TeVf8AfS78wK"
    },
    {
      "cell_type": "markdown",
      "id": "fea1fdc3",
      "metadata": {
        "id": "fea1fdc3"
      },
      "source": [
        "# Bagging"
      ]
    },
    {
      "cell_type": "code",
      "execution_count": null,
      "id": "87b5046a",
      "metadata": {
        "id": "87b5046a",
        "outputId": "7b29348e-9594-4bd1-8d2f-34c762d1b8d9"
      },
      "outputs": [
        {
          "data": {
            "text/plain": [
              "0.6908212560386473"
            ]
          },
          "execution_count": 56,
          "metadata": {},
          "output_type": "execute_result"
        }
      ],
      "source": [
        "from sklearn.ensemble import BaggingClassifier\n",
        "bag_model = BaggingClassifier(\n",
        "base_estimator=DecisionTreeClassifier(),\n",
        "n_estimators=100,\n",
        "max_samples=0.9,\n",
        "bootstrap=True,\n",
        "oob_score=True,\n",
        "random_state=0\n",
        ")\n",
        "bag_model.fit(x_train, y_train)\n",
        "bag_model.oob_score_\n",
        "bag_model.score(x_test, y_test)"
      ]
    },
    {
      "cell_type": "markdown",
      "id": "0a28df73",
      "metadata": {
        "id": "0a28df73"
      },
      "source": [
        "# Boosting"
      ]
    },
    {
      "cell_type": "code",
      "execution_count": null,
      "id": "18ac8950",
      "metadata": {
        "id": "18ac8950",
        "outputId": "376a0f49-b66e-45fb-da6b-baef72a302db"
      },
      "outputs": [
        {
          "name": "stdout",
          "output_type": "stream",
          "text": [
            "Model accuracy : 0.35990\n"
          ]
        },
        {
          "name": "stderr",
          "output_type": "stream",
          "text": [
            "C:\\ProgramData\\Anaconda3\\lib\\site-packages\\sklearn\\metrics\\_classification.py:1334: UndefinedMetricWarning: Precision and F-score are ill-defined and being set to 0.0 in labels with no predicted samples. Use `zero_division` parameter to control this behavior.\n",
            "  _warn_prf(average, modifier, msg_start, len(result))\n",
            "C:\\ProgramData\\Anaconda3\\lib\\site-packages\\sklearn\\metrics\\_classification.py:1334: UndefinedMetricWarning: Precision and F-score are ill-defined and being set to 0.0 in labels with no predicted samples. Use `zero_division` parameter to control this behavior.\n",
            "  _warn_prf(average, modifier, msg_start, len(result))\n",
            "C:\\ProgramData\\Anaconda3\\lib\\site-packages\\sklearn\\metrics\\_classification.py:1334: UndefinedMetricWarning: Precision and F-score are ill-defined and being set to 0.0 in labels with no predicted samples. Use `zero_division` parameter to control this behavior.\n",
            "  _warn_prf(average, modifier, msg_start, len(result))\n"
          ]
        },
        {
          "name": "stdout",
          "output_type": "stream",
          "text": [
            "              precision    recall  f1-score   support\n",
            "\n",
            "           1       0.06      1.00      0.11         8\n",
            "           2       0.00      0.00      0.00        14\n",
            "           3       0.00      0.00      0.00         8\n",
            "           4       0.33      1.00      0.50        10\n",
            "           5       0.00      0.00      0.00         7\n",
            "           6       0.00      0.00      0.00        13\n",
            "           7       0.00      0.00      0.00        14\n",
            "           8       0.00      0.00      0.00        14\n",
            "           9       0.25      0.20      0.22         5\n",
            "          10       0.00      0.00      0.00         4\n",
            "          11       0.00      0.00      0.00        10\n",
            "          12       0.00      0.00      0.00        13\n",
            "          13       0.00      0.00      0.00        16\n",
            "          14       0.00      0.00      0.00        13\n",
            "          15       0.00      0.00      0.00        10\n",
            "          16       0.00      0.00      0.00         6\n",
            "          17       0.00      0.00      0.00        10\n",
            "          18       0.00      0.00      0.00        12\n",
            "          19       0.00      0.00      0.00        15\n",
            "          20       0.00      0.00      0.00        14\n",
            "          21       0.00      0.00      0.00        18\n",
            "          22       0.00      0.00      0.00        13\n",
            "          23       0.00      0.00      0.00         9\n",
            "          24       0.00      0.00      0.00        11\n",
            "          25       0.00      0.00      0.00         8\n",
            "          26       0.00      0.00      0.00        12\n",
            "          27       0.07      1.00      0.12        13\n",
            "          28       0.00      0.00      0.00        13\n",
            "          29       0.00      0.00      0.00        10\n",
            "          30       0.00      0.00      0.00         2\n",
            "          31       0.00      0.00      0.00        11\n",
            "          32       0.29      1.00      0.45        13\n",
            "          34       0.00      0.00      0.00        11\n",
            "          35       0.00      0.00      0.00        10\n",
            "          38       0.00      0.00      0.00         2\n",
            "          39       0.00      0.00      0.00        10\n",
            "          40       0.00      0.00      0.00        11\n",
            "          41       0.00      0.00      0.00        12\n",
            "          43       0.00      0.00      0.00         1\n",
            "          45       0.00      0.00      0.00         8\n",
            "\n",
            "    accuracy                           0.11       414\n",
            "   macro avg       0.02      0.11      0.04       414\n",
            "weighted avg       0.02      0.11      0.03       414\n",
            "\n"
          ]
        },
        {
          "data": {
            "image/png": "[encoded data removed]",
            "text/plain": [
              "<Figure size 576x360 with 2 Axes>"
            ]
          },
          "metadata": {
            "needs_background": "light"
          },
          "output_type": "display_data"
        }
      ],
      "source": [
        "from sklearn.ensemble import AdaBoostClassifier\n",
        "from sklearn.metrics import accuracy_score, confusion_matrix, classification_report\n",
        "model = AdaBoostClassifier()\n",
        "model.fit(x_train,y_train)\n",
        "ADA_pred = model.predict(x_test)\n",
        "print('Model accuracy : {0:0.5f}'. format(accuracy_score(y_test, y_pred)))\n",
        "conf_mat = confusion_matrix(y_test, ADA_pred)\n",
        "fig , ax = plt.subplots()\n",
        "fig.set_size_inches(8,5)\n",
        "sns.heatmap(conf_mat)\n",
        "print(classification_report(y_test, ADA_pred))"
      ]
    },
    {
      "cell_type": "markdown",
      "id": "bf891a6b",
      "metadata": {
        "id": "bf891a6b"
      },
      "source": [
        "# data normalization"
      ]
    },
    {
      "cell_type": "markdown",
      "source": [
        "Lastly I do the data normalisation for the dataset"
      ],
      "metadata": {
        "id": "efJoC5vp8GHW"
      },
      "id": "efJoC5vp8GHW"
    },
    {
      "cell_type": "code",
      "execution_count": null,
      "id": "09ee6f61",
      "metadata": {
        "id": "09ee6f61",
        "outputId": "6e9e5a31-7906-4c33-c351-a0329ec8eb9a"
      },
      "outputs": [
        {
          "name": "stdout",
          "output_type": "stream",
          "text": [
            "[[0.         0.64341085 0.29741078 ... 0.         0.         0.        ]\n",
            " [0.         0.67383721 0.30510847 ... 0.         0.         0.        ]\n",
            " [0.         0.65339147 0.25472358 ... 0.         0.         0.        ]\n",
            " ...\n",
            " [1.         0.49641473 0.62351295 ... 0.         0.         0.        ]\n",
            " [1.         0.62674419 0.59622113 ... 1.         0.         0.        ]\n",
            " [1.         0.61589147 0.56263121 ... 0.         1.         0.        ]]\n",
            "      Store  Temperature  Fuel_Price  MarkDown1  MarkDown2  MarkDown3  \\\n",
            "0       0.0     0.643411    0.297411   0.105512   0.060900   0.002635   \n",
            "1       0.0     0.673837    0.305108   0.063982   0.004964   0.001545   \n",
            "2       0.0     0.653391    0.254724   0.009390   0.003471   0.374073   \n",
            "3       0.0     0.544574    0.209937   0.059696   0.003185   0.010540   \n",
            "4       0.0     0.496318    0.200140   0.050165   0.002718   0.001899   \n",
            "...     ...          ...         ...        ...        ...        ...   \n",
            "2064    1.0     0.455523    0.712386   0.069188   0.003947   0.001235   \n",
            "2065    1.0     0.420736    0.691393   0.163341   0.003382   0.001429   \n",
            "2066    1.0     0.496415    0.623513   0.163777   0.053511   0.002418   \n",
            "2067    1.0     0.626744    0.596221   0.089871   0.018885   0.001339   \n",
            "2068    1.0     0.615891    0.562631   0.018928   0.002917   0.001494   \n",
            "\n",
            "      MarkDown4  MarkDown5       CPI  Unemployment  ...  Date_2013-02-08  \\\n",
            "0      0.035660   0.008730  0.889286      0.454269  ...              0.0   \n",
            "1      0.006327   0.008001  0.891529      0.454269  ...              0.0   \n",
            "2      0.000112   0.000959  0.894021      0.454269  ...              0.0   \n",
            "3      0.030888   0.026775  0.896513      0.454269  ...              0.0   \n",
            "4      0.053931   0.018982  0.899005      0.454269  ...              0.0   \n",
            "...         ...        ...       ...           ...  ...              ...   \n",
            "2064   0.000401   0.002403  0.638419      0.536715  ...              0.0   \n",
            "2065   0.045891   0.004759  0.639320      0.536715  ...              0.0   \n",
            "2066   0.022577   0.002499  0.642391      0.505214  ...              0.0   \n",
            "2067   0.019294   0.002029  0.643130      0.505214  ...              0.0   \n",
            "2068   0.000895   0.002113  0.643130      0.505214  ...              0.0   \n",
            "\n",
            "      Date_2013-02-15  Date_2013-02-22  Date_2013-03-01  Date_2013-03-08  \\\n",
            "0                 0.0              0.0              0.0              0.0   \n",
            "1                 0.0              0.0              0.0              0.0   \n",
            "2                 0.0              0.0              0.0              0.0   \n",
            "3                 0.0              0.0              0.0              0.0   \n",
            "4                 0.0              0.0              0.0              0.0   \n",
            "...               ...              ...              ...              ...   \n",
            "2064              0.0              0.0              1.0              0.0   \n",
            "2065              0.0              0.0              0.0              1.0   \n",
            "2066              0.0              0.0              0.0              0.0   \n",
            "2067              0.0              0.0              0.0              0.0   \n",
            "2068              0.0              0.0              0.0              0.0   \n",
            "\n",
            "      Date_2013-03-15  Date_2013-04-05  Date_2013-04-12  Date_2013-04-19  \\\n",
            "0                 0.0              0.0              0.0              0.0   \n",
            "1                 0.0              0.0              0.0              0.0   \n",
            "2                 0.0              0.0              0.0              0.0   \n",
            "3                 0.0              0.0              0.0              0.0   \n",
            "4                 0.0              0.0              0.0              0.0   \n",
            "...               ...              ...              ...              ...   \n",
            "2064              0.0              0.0              0.0              0.0   \n",
            "2065              0.0              0.0              0.0              0.0   \n",
            "2066              0.0              1.0              0.0              0.0   \n",
            "2067              0.0              0.0              1.0              0.0   \n",
            "2068              0.0              0.0              0.0              1.0   \n",
            "\n",
            "      Date_2013-04-26  \n",
            "0                 0.0  \n",
            "1                 0.0  \n",
            "2                 0.0  \n",
            "3                 0.0  \n",
            "4                 0.0  \n",
            "...               ...  \n",
            "2064              0.0  \n",
            "2065              0.0  \n",
            "2066              0.0  \n",
            "2067              0.0  \n",
            "2068              0.0  \n",
            "\n",
            "[2069 rows x 80 columns]\n"
          ]
        }
      ],
      "source": [
        "from sklearn.preprocessing import MinMaxScaler\n",
        "scaler = MinMaxScaler()\n",
        "normalized_data = scaler.fit_transform(data1)\n",
        "print(normalized_data)\n",
        "normalized_data = pd.DataFrame(normalized_data, columns=data1.columns)\n",
        "print(normalized_data)"
      ]
    },
    {
      "cell_type": "code",
      "execution_count": null,
      "id": "4220da13",
      "metadata": {
        "id": "4220da13"
      },
      "outputs": [],
      "source": []
    }
  ],
  "metadata": {
    "kernelspec": {
      "display_name": "Python 3",
      "language": "python",
      "name": "python3"
    },
    "language_info": {
      "codemirror_mode": {
        "name": "ipython",
        "version": 3
      },
      "file_extension": ".py",
      "mimetype": "text/x-python",
      "name": "python",
      "nbconvert_exporter": "python",
      "pygments_lexer": "ipython3",
      "version": "3.8.8"
    },
    "colab": {
      "provenance": [],
      "toc_visible": true
    }
  },
  "nbformat": 4,
  "nbformat_minor": 5
}